{
  "nbformat": 4,
  "nbformat_minor": 0,
  "metadata": {
    "colab": {
      "provenance": [],
      "gpuType": "T4"
    },
    "kernelspec": {
      "name": "python3",
      "display_name": "Python 3"
    },
    "language_info": {
      "name": "python"
    },
    "accelerator": "GPU"
  },
  "cells": [
    {
      "cell_type": "markdown",
      "source": [
        "1. Import Library"
      ],
      "metadata": {
        "id": "Wp6BwCZ91QQp"
      }
    },
    {
      "cell_type": "code",
      "execution_count": null,
      "metadata": {
        "id": "619eCybxUk8I"
      },
      "outputs": [],
      "source": [
        "import pandas as pd\n",
        "import numpy as np\n",
        "import tensorflow as tf\n",
        "from sklearn.model_selection import train_test_split\n",
        "from sklearn.metrics import mean_squared_error, mean_absolute_error, r2_score\n",
        "import matplotlib.pyplot as plt"
      ]
    },
    {
      "cell_type": "markdown",
      "source": [
        "2. Load Dataset"
      ],
      "metadata": {
        "id": "ioK383if1Lv4"
      }
    },
    {
      "cell_type": "code",
      "source": [
        "from google.colab import drive\n",
        "drive.mount('/content/drive')"
      ],
      "metadata": {
        "id": "_bVsxhv619Bq",
        "colab": {
          "base_uri": "https://localhost:8080/"
        },
        "outputId": "3e30261e-0f3c-46df-95c2-fa6ad03fb9c8"
      },
      "execution_count": null,
      "outputs": [
        {
          "output_type": "stream",
          "name": "stdout",
          "text": [
            "Mounted at /content/drive\n"
          ]
        }
      ]
    },
    {
      "cell_type": "markdown",
      "source": [
        "3. Membaca Dataset"
      ],
      "metadata": {
        "id": "IUTPDumX56UO"
      }
    },
    {
      "cell_type": "code",
      "source": [
        "data = pd.read_csv('/content/drive/MyDrive/Colab Notebooks/dataset/dataset.csv')  # Ubah 'nama_dataset.csv' sesuai dengan nama file dataset Anda"
      ],
      "metadata": {
        "id": "EXr9ZSFAzwzY"
      },
      "execution_count": null,
      "outputs": []
    },
    {
      "cell_type": "markdown",
      "source": [
        "4. Menampilkan data dari Dataset"
      ],
      "metadata": {
        "id": "CA4Aroi9CjEd"
      }
    },
    {
      "cell_type": "code",
      "source": [
        "print(data)\n",
        "data.info()"
      ],
      "metadata": {
        "id": "0CpJYWBu1DpQ",
        "colab": {
          "base_uri": "https://localhost:8080/"
        },
        "outputId": "2f4d75b3-0e11-418d-d4a9-a9c8760e6c03"
      },
      "execution_count": null,
      "outputs": [
        {
          "output_type": "stream",
          "name": "stdout",
          "text": [
            "     Label_Cuaca  Minimum Temperature  Maximum Temperature  Rainfall\n",
            "0     2021-01-01                 24.3                 32.1       1.5\n",
            "1     2021-01-02                 25.1                 33.3       0.0\n",
            "2     2021-01-03                 24.2                 31.3      23.4\n",
            "3     2021-01-04                 23.1                 31.7       9.7\n",
            "4     2021-01-05                 23.4                 33.8       0.0\n",
            "...          ...                  ...                  ...       ...\n",
            "1186  2024-04-01                 25.5                 31.3      15.3\n",
            "1187  2024-04-02                 25.7                 32.5      19.4\n",
            "1188  2024-04-03                 25.2                 33.9       1.6\n",
            "1189  2024-04-04                 25.3                 33.0       3.6\n",
            "1190  2024-04-05                 25.8                 33.8       1.0\n",
            "\n",
            "[1191 rows x 4 columns]\n",
            "<class 'pandas.core.frame.DataFrame'>\n",
            "RangeIndex: 1191 entries, 0 to 1190\n",
            "Data columns (total 4 columns):\n",
            " #   Column               Non-Null Count  Dtype  \n",
            "---  ------               --------------  -----  \n",
            " 0   Label_Cuaca          1191 non-null   object \n",
            " 1   Minimum Temperature  1191 non-null   float64\n",
            " 2   Maximum Temperature  1191 non-null   float64\n",
            " 3   Rainfall             1191 non-null   float64\n",
            "dtypes: float64(3), object(1)\n",
            "memory usage: 37.3+ KB\n"
          ]
        }
      ]
    },
    {
      "cell_type": "markdown",
      "source": [
        "5. Persiapan Data untuk Model LSTM"
      ],
      "metadata": {
        "id": "mlCuL--QCi-k"
      }
    },
    {
      "cell_type": "code",
      "source": [
        "# 2. Persiapan Data untuk Model LSTM\n",
        "# Pisahkan fitur (features) dan label (labels)\n",
        "features = data[['Minimum Temperature', 'Maximum Temperature', 'Rainfall']]\n",
        "labels = data[['Minimum Temperature', 'Maximum Temperature', 'Rainfall']]"
      ],
      "metadata": {
        "id": "Up0eiFf4z3BZ"
      },
      "execution_count": null,
      "outputs": []
    },
    {
      "cell_type": "markdown",
      "source": [
        "6. Pisahkan data menjadi data latih dan data uji\n",
        "\n",
        "\n"
      ],
      "metadata": {
        "id": "YEQdliuDC1nA"
      }
    },
    {
      "cell_type": "code",
      "source": [
        "# Pisahkan data menjadi data latih dan data uji\n",
        "X_train, X_test, y_train, y_test = train_test_split(features, labels, test_size=0.2, random_state=42)"
      ],
      "metadata": {
        "id": "bi3Rq7gEz9a4"
      },
      "execution_count": null,
      "outputs": []
    },
    {
      "cell_type": "markdown",
      "source": [
        "7. Pemodelan dengan LSTM menggunakan TensorFlow\n",
        "\n",
        "\n",
        "\n"
      ],
      "metadata": {
        "id": "nOuWBcEZC1u2"
      }
    },
    {
      "cell_type": "code",
      "source": [
        "# 3. Pemodelan dengan LSTM menggunakan TensorFlow\n",
        "# Tentukan jumlah time steps (jumlah langkah waktu) dan jumlah fitur\n",
        "n_timesteps = 1  # Untuk keperluan contoh sederhana, kita akan menggunakan 1 time step\n",
        "n_features = 3    # Jumlah fitur: temperatur minimum, temperatur maksimum, dan curah hujan"
      ],
      "metadata": {
        "id": "JpOxiIfF0CTg"
      },
      "execution_count": null,
      "outputs": []
    },
    {
      "cell_type": "markdown",
      "source": [
        "8. Tentukan model LSTM itu sendiri"
      ],
      "metadata": {
        "id": "BoPLL-ciC14D"
      }
    },
    {
      "cell_type": "code",
      "source": [
        "# Tentukan model LSTM\n",
        "model = tf.keras.Sequential([\n",
        "    tf.keras.layers.LSTM(units=50, activation='relu', return_sequences=True, input_shape=(n_timesteps, n_features)),\n",
        "    tf.keras.layers.LSTM(units=50, activation='relu'),\n",
        "    tf.keras.layers.Dense(units=3)  # Output layer dengan 3 neuron untuk tiga parameter cuaca\n",
        "])"
      ],
      "metadata": {
        "id": "MLx3AYqO0Jho",
        "colab": {
          "base_uri": "https://localhost:8080/"
        },
        "outputId": "60375a3d-99f2-4841-b80f-6a024e1a7a56"
      },
      "execution_count": null,
      "outputs": [
        {
          "output_type": "stream",
          "name": "stderr",
          "text": [
            "WARNING:tensorflow:Layer lstm will not use cuDNN kernels since it doesn't meet the criteria. It will use a generic GPU kernel as fallback when running on GPU.\n",
            "WARNING:tensorflow:Layer lstm_1 will not use cuDNN kernels since it doesn't meet the criteria. It will use a generic GPU kernel as fallback when running on GPU.\n"
          ]
        }
      ]
    },
    {
      "cell_type": "markdown",
      "source": [
        "9. Kompilasi Model LSTM"
      ],
      "metadata": {
        "id": "c0WmzxhpC173"
      }
    },
    {
      "cell_type": "code",
      "source": [
        "# Kompilasi model\n",
        "model.compile(optimizer='adam', loss='mse')"
      ],
      "metadata": {
        "id": "4E9AYop_0NQY"
      },
      "execution_count": null,
      "outputs": []
    },
    {
      "cell_type": "markdown",
      "source": [
        "10. Melatih model dengan data yang ada"
      ],
      "metadata": {
        "id": "Hf1CGqZ0CjJD"
      }
    },
    {
      "cell_type": "code",
      "source": [
        "# 4. Pelatihan Model\n",
        "# Latih model\n",
        "history = model.fit(X_train.values.reshape(-1, n_timesteps, n_features), y_train, epochs=100, batch_size=32, validation_data=(X_test.values.reshape(-1, n_timesteps, n_features), y_test))"
      ],
      "metadata": {
        "id": "Jczso08f0QSA",
        "colab": {
          "base_uri": "https://localhost:8080/"
        },
        "outputId": "c23d7af1-2369-40d6-fe26-476e02c580cb"
      },
      "execution_count": null,
      "outputs": [
        {
          "output_type": "stream",
          "name": "stdout",
          "text": [
            "Epoch 1/100\n",
            "30/30 [==============================] - 4s 9ms/step - loss: 820.5115 - val_loss: 644.0506\n",
            "Epoch 2/100\n",
            "30/30 [==============================] - 0s 8ms/step - loss: 460.9305 - val_loss: 107.9831\n",
            "Epoch 3/100\n",
            "30/30 [==============================] - 0s 9ms/step - loss: 56.4618 - val_loss: 8.6276\n",
            "Epoch 4/100\n",
            "30/30 [==============================] - 0s 9ms/step - loss: 6.9827 - val_loss: 4.7198\n",
            "Epoch 5/100\n",
            "30/30 [==============================] - 0s 9ms/step - loss: 2.9880 - val_loss: 3.3464\n",
            "Epoch 6/100\n",
            "30/30 [==============================] - 0s 8ms/step - loss: 1.6683 - val_loss: 2.7156\n",
            "Epoch 7/100\n",
            "30/30 [==============================] - 0s 9ms/step - loss: 1.1197 - val_loss: 2.3860\n",
            "Epoch 8/100\n",
            "30/30 [==============================] - 0s 9ms/step - loss: 0.9566 - val_loss: 2.0930\n",
            "Epoch 9/100\n",
            "30/30 [==============================] - 0s 8ms/step - loss: 0.8020 - val_loss: 1.9151\n",
            "Epoch 10/100\n",
            "30/30 [==============================] - 0s 8ms/step - loss: 0.7503 - val_loss: 1.6554\n",
            "Epoch 11/100\n",
            "30/30 [==============================] - 0s 9ms/step - loss: 1.4349 - val_loss: 1.5703\n",
            "Epoch 12/100\n",
            "30/30 [==============================] - 0s 8ms/step - loss: 0.8869 - val_loss: 1.3773\n",
            "Epoch 13/100\n",
            "30/30 [==============================] - 0s 8ms/step - loss: 0.5813 - val_loss: 1.1204\n",
            "Epoch 14/100\n",
            "30/30 [==============================] - 0s 8ms/step - loss: 0.3938 - val_loss: 0.9587\n",
            "Epoch 15/100\n",
            "30/30 [==============================] - 0s 10ms/step - loss: 0.3366 - val_loss: 0.8295\n",
            "Epoch 16/100\n",
            "30/30 [==============================] - 0s 8ms/step - loss: 0.2484 - val_loss: 0.7491\n",
            "Epoch 17/100\n",
            "30/30 [==============================] - 0s 8ms/step - loss: 0.2474 - val_loss: 0.6930\n",
            "Epoch 18/100\n",
            "30/30 [==============================] - 0s 8ms/step - loss: 0.2081 - val_loss: 0.6444\n",
            "Epoch 19/100\n",
            "30/30 [==============================] - 0s 9ms/step - loss: 0.1800 - val_loss: 0.6355\n",
            "Epoch 20/100\n",
            "30/30 [==============================] - 0s 9ms/step - loss: 0.1941 - val_loss: 0.6181\n",
            "Epoch 21/100\n",
            "30/30 [==============================] - 0s 8ms/step - loss: 0.1766 - val_loss: 0.5841\n",
            "Epoch 22/100\n",
            "30/30 [==============================] - 0s 8ms/step - loss: 0.1576 - val_loss: 0.5914\n",
            "Epoch 23/100\n",
            "30/30 [==============================] - 0s 9ms/step - loss: 0.1342 - val_loss: 0.5324\n",
            "Epoch 24/100\n",
            "30/30 [==============================] - 0s 8ms/step - loss: 0.1213 - val_loss: 0.5537\n",
            "Epoch 25/100\n",
            "30/30 [==============================] - 0s 8ms/step - loss: 0.0725 - val_loss: 0.5955\n",
            "Epoch 26/100\n",
            "30/30 [==============================] - 0s 9ms/step - loss: 0.0977 - val_loss: 0.5179\n",
            "Epoch 27/100\n",
            "30/30 [==============================] - 0s 16ms/step - loss: 0.0642 - val_loss: 0.5090\n",
            "Epoch 28/100\n",
            "30/30 [==============================] - 0s 15ms/step - loss: 0.0470 - val_loss: 0.4964\n",
            "Epoch 29/100\n",
            "30/30 [==============================] - 0s 16ms/step - loss: 0.0372 - val_loss: 0.5171\n",
            "Epoch 30/100\n",
            "30/30 [==============================] - 0s 15ms/step - loss: 0.0416 - val_loss: 0.5017\n",
            "Epoch 31/100\n",
            "30/30 [==============================] - 0s 16ms/step - loss: 0.0418 - val_loss: 0.4908\n",
            "Epoch 32/100\n",
            "30/30 [==============================] - 1s 17ms/step - loss: 0.0325 - val_loss: 0.4787\n",
            "Epoch 33/100\n",
            "30/30 [==============================] - 0s 16ms/step - loss: 0.0301 - val_loss: 0.4701\n",
            "Epoch 34/100\n",
            "30/30 [==============================] - 0s 15ms/step - loss: 0.0293 - val_loss: 0.4762\n",
            "Epoch 35/100\n",
            "30/30 [==============================] - 0s 8ms/step - loss: 0.0288 - val_loss: 0.4669\n",
            "Epoch 36/100\n",
            "30/30 [==============================] - 0s 10ms/step - loss: 0.0255 - val_loss: 0.4628\n",
            "Epoch 37/100\n",
            "30/30 [==============================] - 0s 9ms/step - loss: 0.0282 - val_loss: 0.4703\n",
            "Epoch 38/100\n",
            "30/30 [==============================] - 0s 8ms/step - loss: 0.0322 - val_loss: 0.4594\n",
            "Epoch 39/100\n",
            "30/30 [==============================] - 0s 8ms/step - loss: 0.0266 - val_loss: 0.4568\n",
            "Epoch 40/100\n",
            "30/30 [==============================] - 0s 10ms/step - loss: 0.0242 - val_loss: 0.4555\n",
            "Epoch 41/100\n",
            "30/30 [==============================] - 0s 8ms/step - loss: 0.0264 - val_loss: 0.4557\n",
            "Epoch 42/100\n",
            "30/30 [==============================] - 0s 8ms/step - loss: 0.0416 - val_loss: 0.4563\n",
            "Epoch 43/100\n",
            "30/30 [==============================] - 0s 8ms/step - loss: 0.0315 - val_loss: 0.4560\n",
            "Epoch 44/100\n",
            "30/30 [==============================] - 0s 9ms/step - loss: 0.0231 - val_loss: 0.4418\n",
            "Epoch 45/100\n",
            "30/30 [==============================] - 0s 9ms/step - loss: 0.0262 - val_loss: 0.4532\n",
            "Epoch 46/100\n",
            "30/30 [==============================] - 0s 8ms/step - loss: 0.0224 - val_loss: 0.4417\n",
            "Epoch 47/100\n",
            "30/30 [==============================] - 0s 8ms/step - loss: 0.0188 - val_loss: 0.4541\n",
            "Epoch 48/100\n",
            "30/30 [==============================] - 0s 8ms/step - loss: 0.0196 - val_loss: 0.4342\n",
            "Epoch 49/100\n",
            "30/30 [==============================] - 0s 9ms/step - loss: 0.0221 - val_loss: 0.4396\n",
            "Epoch 50/100\n",
            "30/30 [==============================] - 0s 8ms/step - loss: 0.0198 - val_loss: 0.4344\n",
            "Epoch 51/100\n",
            "30/30 [==============================] - 0s 8ms/step - loss: 0.0155 - val_loss: 0.4335\n",
            "Epoch 52/100\n",
            "30/30 [==============================] - 0s 9ms/step - loss: 0.0191 - val_loss: 0.4333\n",
            "Epoch 53/100\n",
            "30/30 [==============================] - 0s 8ms/step - loss: 0.0186 - val_loss: 0.4292\n",
            "Epoch 54/100\n",
            "30/30 [==============================] - 0s 8ms/step - loss: 0.0146 - val_loss: 0.4256\n",
            "Epoch 55/100\n",
            "30/30 [==============================] - 0s 8ms/step - loss: 0.0167 - val_loss: 0.4268\n",
            "Epoch 56/100\n",
            "30/30 [==============================] - 0s 9ms/step - loss: 0.0148 - val_loss: 0.4238\n",
            "Epoch 57/100\n",
            "30/30 [==============================] - 0s 8ms/step - loss: 0.0130 - val_loss: 0.4200\n",
            "Epoch 58/100\n",
            "30/30 [==============================] - 0s 9ms/step - loss: 0.0223 - val_loss: 0.4313\n",
            "Epoch 59/100\n",
            "30/30 [==============================] - 0s 8ms/step - loss: 0.0152 - val_loss: 0.4235\n",
            "Epoch 60/100\n",
            "30/30 [==============================] - 0s 9ms/step - loss: 0.0221 - val_loss: 0.4269\n",
            "Epoch 61/100\n",
            "30/30 [==============================] - 0s 8ms/step - loss: 0.0210 - val_loss: 0.4220\n",
            "Epoch 62/100\n",
            "30/30 [==============================] - 0s 8ms/step - loss: 0.0161 - val_loss: 0.4194\n",
            "Epoch 63/100\n",
            "30/30 [==============================] - 0s 8ms/step - loss: 0.0115 - val_loss: 0.4237\n",
            "Epoch 64/100\n",
            "30/30 [==============================] - 0s 8ms/step - loss: 0.0125 - val_loss: 0.4186\n",
            "Epoch 65/100\n",
            "30/30 [==============================] - 0s 9ms/step - loss: 0.0130 - val_loss: 0.4146\n",
            "Epoch 66/100\n",
            "30/30 [==============================] - 0s 8ms/step - loss: 0.0130 - val_loss: 0.4290\n",
            "Epoch 67/100\n",
            "30/30 [==============================] - 0s 8ms/step - loss: 0.0188 - val_loss: 0.4190\n",
            "Epoch 68/100\n",
            "30/30 [==============================] - 0s 10ms/step - loss: 0.0134 - val_loss: 0.4225\n",
            "Epoch 69/100\n",
            "30/30 [==============================] - 0s 8ms/step - loss: 0.0115 - val_loss: 0.4073\n",
            "Epoch 70/100\n",
            "30/30 [==============================] - 0s 8ms/step - loss: 0.0095 - val_loss: 0.4105\n",
            "Epoch 71/100\n",
            "30/30 [==============================] - 0s 8ms/step - loss: 0.0081 - val_loss: 0.4090\n",
            "Epoch 72/100\n",
            "30/30 [==============================] - 0s 8ms/step - loss: 0.0124 - val_loss: 0.4081\n",
            "Epoch 73/100\n",
            "30/30 [==============================] - 0s 9ms/step - loss: 0.0175 - val_loss: 0.4185\n",
            "Epoch 74/100\n",
            "30/30 [==============================] - 0s 16ms/step - loss: 0.0221 - val_loss: 0.4043\n",
            "Epoch 75/100\n",
            "30/30 [==============================] - 0s 16ms/step - loss: 0.0116 - val_loss: 0.4033\n",
            "Epoch 76/100\n",
            "30/30 [==============================] - 0s 17ms/step - loss: 0.0113 - val_loss: 0.4070\n",
            "Epoch 77/100\n",
            "30/30 [==============================] - 0s 16ms/step - loss: 0.0103 - val_loss: 0.4025\n",
            "Epoch 78/100\n",
            "30/30 [==============================] - 0s 16ms/step - loss: 0.0108 - val_loss: 0.4019\n",
            "Epoch 79/100\n",
            "30/30 [==============================] - 0s 15ms/step - loss: 0.0118 - val_loss: 0.4014\n",
            "Epoch 80/100\n",
            "30/30 [==============================] - 0s 17ms/step - loss: 0.0086 - val_loss: 0.4077\n",
            "Epoch 81/100\n",
            "30/30 [==============================] - 0s 10ms/step - loss: 0.0354 - val_loss: 0.4416\n",
            "Epoch 82/100\n",
            "30/30 [==============================] - 0s 8ms/step - loss: 0.0233 - val_loss: 0.4081\n",
            "Epoch 83/100\n",
            "30/30 [==============================] - 0s 8ms/step - loss: 0.0164 - val_loss: 0.4232\n",
            "Epoch 84/100\n",
            "30/30 [==============================] - 0s 9ms/step - loss: 0.0410 - val_loss: 0.4041\n",
            "Epoch 85/100\n",
            "30/30 [==============================] - 0s 9ms/step - loss: 0.0451 - val_loss: 0.4538\n",
            "Epoch 86/100\n",
            "30/30 [==============================] - 0s 9ms/step - loss: 0.0783 - val_loss: 0.4534\n",
            "Epoch 87/100\n",
            "30/30 [==============================] - 0s 8ms/step - loss: 0.0595 - val_loss: 0.4359\n",
            "Epoch 88/100\n",
            "30/30 [==============================] - 0s 8ms/step - loss: 0.0613 - val_loss: 0.4715\n",
            "Epoch 89/100\n",
            "30/30 [==============================] - 0s 8ms/step - loss: 0.1340 - val_loss: 0.5845\n",
            "Epoch 90/100\n",
            "30/30 [==============================] - 0s 9ms/step - loss: 0.0962 - val_loss: 0.4629\n",
            "Epoch 91/100\n",
            "30/30 [==============================] - 0s 8ms/step - loss: 0.1528 - val_loss: 0.5772\n",
            "Epoch 92/100\n",
            "30/30 [==============================] - 0s 9ms/step - loss: 0.1208 - val_loss: 0.4220\n",
            "Epoch 93/100\n",
            "30/30 [==============================] - 0s 8ms/step - loss: 0.1166 - val_loss: 0.4243\n",
            "Epoch 94/100\n",
            "30/30 [==============================] - 0s 9ms/step - loss: 0.1542 - val_loss: 0.4854\n",
            "Epoch 95/100\n",
            "30/30 [==============================] - 0s 8ms/step - loss: 0.2747 - val_loss: 0.5678\n",
            "Epoch 96/100\n",
            "30/30 [==============================] - 0s 8ms/step - loss: 0.4343 - val_loss: 0.6105\n",
            "Epoch 97/100\n",
            "30/30 [==============================] - 0s 8ms/step - loss: 0.2448 - val_loss: 0.5837\n",
            "Epoch 98/100\n",
            "30/30 [==============================] - 0s 9ms/step - loss: 0.2326 - val_loss: 0.4310\n",
            "Epoch 99/100\n",
            "30/30 [==============================] - 0s 8ms/step - loss: 0.1078 - val_loss: 0.4386\n",
            "Epoch 100/100\n",
            "30/30 [==============================] - 0s 8ms/step - loss: 0.0651 - val_loss: 0.4374\n"
          ]
        }
      ]
    },
    {
      "cell_type": "markdown",
      "source": [
        "11. Evaluasi Model AI yang ada\n",
        "\n"
      ],
      "metadata": {
        "id": "Fg5dgAMDCjLg"
      }
    },
    {
      "cell_type": "code",
      "source": [
        "# 5. Evaluasi Model\n",
        "# Evaluasi model\n",
        "loss = model.evaluate(X_test.values.reshape(-1, n_timesteps, n_features), y_test)\n",
        "print(\"Mean Squared Error (MSE):\", loss)"
      ],
      "metadata": {
        "id": "YdV9hKTJ0YaB",
        "colab": {
          "base_uri": "https://localhost:8080/"
        },
        "outputId": "471d4d8a-38fe-40d1-a721-8cea1f982a9c"
      },
      "execution_count": null,
      "outputs": [
        {
          "output_type": "stream",
          "name": "stdout",
          "text": [
            "8/8 [==============================] - 1s 14ms/step - loss: 758.7772\n",
            "Mean Squared Error (MSE): 758.7772216796875\n"
          ]
        }
      ]
    },
    {
      "cell_type": "markdown",
      "source": [
        "12. Prediksi Kondisi Cuaca"
      ],
      "metadata": {
        "id": "GtsTKn6zBm1v"
      }
    },
    {
      "cell_type": "code",
      "source": [
        "# 6. Prediksi Kondisi Cuaca\n",
        "# Gunakan model LSTM untuk memprediksi kondisi cuaca\n",
        "input_data = np.array([[20, 30, 5]])  # Contoh data input: temperatur minimum = 20, temperatur maksimum = 30, curah hujan = 5\n",
        "prediksi_cuaca = model.predict(input_data.reshape(-1, n_timesteps, n_features))\n",
        "print(\"Prediksi kondisi cuaca (Minimum Temperature, Maximum Temperature, Rainfall):\", prediksi_cuaca)"
      ],
      "metadata": {
        "id": "6KD6SmJM0cyQ",
        "colab": {
          "base_uri": "https://localhost:8080/"
        },
        "outputId": "92ba778a-2711-4791-a36b-f3bbad3dc496"
      },
      "execution_count": null,
      "outputs": [
        {
          "output_type": "stream",
          "name": "stdout",
          "text": [
            "1/1 [==============================] - 0s 299ms/step\n",
            "Prediksi kondisi cuaca (Minimum Temperature, Maximum Temperature, Rainfall): [[20.11138   30.012293   4.6130652]]\n"
          ]
        }
      ]
    },
    {
      "cell_type": "markdown",
      "source": [
        "13. Melakukan Evaluasi Tambahan"
      ],
      "metadata": {
        "id": "n8LcM-wpKMWi"
      }
    },
    {
      "cell_type": "code",
      "source": [
        "# 7. Evaluasi tambahan\n",
        "# Hitung dan cetak Mean Absolute Error (MAE) dan R-squared\n",
        "y_pred = model.predict(X_test.values.reshape(-1, n_timesteps, n_features))\n",
        "mae = mean_absolute_error(y_test, y_pred)\n",
        "r_squared = r2_score(y_test, y_pred)\n",
        "print(\"Mean Absolute Error (MAE):\", mae)\n",
        "print(\"R-squared:\", r_squared)"
      ],
      "metadata": {
        "colab": {
          "base_uri": "https://localhost:8080/"
        },
        "id": "47zH0IC_EYlo",
        "outputId": "80f323f3-8f83-4f2e-c013-1eb0660fa97b"
      },
      "execution_count": null,
      "outputs": [
        {
          "output_type": "stream",
          "name": "stdout",
          "text": [
            "8/8 [==============================] - 0s 3ms/step\n",
            "Mean Absolute Error (MAE): 0.24996766885287922\n",
            "R-squared: 0.9576296219280724\n"
          ]
        }
      ]
    },
    {
      "cell_type": "markdown",
      "source": [
        "14. Melakukan Plotting Metrik Evaluasi dalam bentuk Grafik Batang"
      ],
      "metadata": {
        "id": "rpnybKnTCk9U"
      }
    },
    {
      "cell_type": "code",
      "source": [
        "# Plotting metrik evaluasi dalam bentuk grafik batang\n",
        "metrics = ['MSE', 'R-squared', 'MAE']\n",
        "values = [loss, r_squared, mae]"
      ],
      "metadata": {
        "id": "mjNDd_iZHCvj"
      },
      "execution_count": null,
      "outputs": []
    },
    {
      "cell_type": "code",
      "source": [
        "plt.bar(metrics, values, color=['blue', 'green', 'orange'])\n",
        "plt.title('Evaluasi Model')\n",
        "plt.xlabel('Metrik')\n",
        "plt.ylabel('Nilai')\n",
        "plt.show()"
      ],
      "metadata": {
        "colab": {
          "base_uri": "https://localhost:8080/",
          "height": 472
        },
        "id": "PsmVDSHYHK6R",
        "outputId": "2b30fb60-5bce-4824-fd9e-4597317ae159"
      },
      "execution_count": null,
      "outputs": [
        {
          "output_type": "display_data",
          "data": {
            "text/plain": [
              "<Figure size 640x480 with 1 Axes>"
            ],
            "image/png": "[encoded data removed]"
          },
          "metadata": {}
        }
      ]
    },
    {
      "cell_type": "code",
      "source": [
        "# Plotting prediksi untuk setiap fitur (Minimum Temperature, Maximum Temperature, Rainfall)\n",
        "plt.figure(figsize=(12, 6))"
      ],
      "metadata": {
        "colab": {
          "base_uri": "https://localhost:8080/",
          "height": 53
        },
        "id": "CnnGYSI0N2FV",
        "outputId": "5aa5547b-7590-46dd-f350-1fed803df54d"
      },
      "execution_count": null,
      "outputs": [
        {
          "output_type": "execute_result",
          "data": {
            "text/plain": [
              "<Figure size 1200x600 with 0 Axes>"
            ]
          },
          "metadata": {},
          "execution_count": 19
        },
        {
          "output_type": "display_data",
          "data": {
            "text/plain": [
              "<Figure size 1200x600 with 0 Axes>"
            ]
          },
          "metadata": {}
        }
      ]
    },
    {
      "cell_type": "code",
      "source": [
        "# Plot temperatur minimum\n",
        "plt.subplot(3, 1, 1)\n",
        "plt.plot(y_test.iloc[:, 0].values, label='Sebenarnya')\n",
        "plt.plot(y_pred[:, 0], label='Prediksi')\n",
        "plt.title('Prediksi dan Nilai Sebenarnya untuk Temperatur Minimum')\n",
        "plt.legend()"
      ],
      "metadata": {
        "colab": {
          "base_uri": "https://localhost:8080/",
          "height": 209
        },
        "id": "CRYfhVlDN2C1",
        "outputId": "00c30584-b414-48ce-9caa-3c479fb43e7c"
      },
      "execution_count": null,
      "outputs": [
        {
          "output_type": "execute_result",
          "data": {
            "text/plain": [
              "<matplotlib.legend.Legend at 0x7a0695dfa200>"
            ]
          },
          "metadata": {},
          "execution_count": 20
        },
        {
          "output_type": "display_data",
          "data": {
            "text/plain": [
              "<Figure size 640x480 with 1 Axes>"
            ],
            "image/png": "[encoded data removed]"
          },
          "metadata": {}
        }
      ]
    },
    {
      "cell_type": "code",
      "source": [
        "# Plot temperatur maksimum\n",
        "plt.subplot(3, 1, 2)\n",
        "plt.plot(y_test.iloc[:, 1].values, label='Sebenarnya')\n",
        "plt.plot(y_pred[:, 1], label='Prediksi')\n",
        "plt.title('Prediksi dan Nilai Sebenarnya untuk Temperatur Maksimum')\n",
        "plt.legend()\n"
      ],
      "metadata": {
        "colab": {
          "base_uri": "https://localhost:8080/",
          "height": 209
        },
        "id": "d7hskgFCN2AG",
        "outputId": "411f9fd4-335c-4a9a-b6a6-b6b8710568d2"
      },
      "execution_count": null,
      "outputs": [
        {
          "output_type": "execute_result",
          "data": {
            "text/plain": [
              "<matplotlib.legend.Legend at 0x7a0695a7ba60>"
            ]
          },
          "metadata": {},
          "execution_count": 21
        },
        {
          "output_type": "display_data",
          "data": {
            "text/plain": [
              "<Figure size 640x480 with 1 Axes>"
            ],
            "image/png": "[encoded data removed]"
          },
          "metadata": {}
        }
      ]
    },
    {
      "cell_type": "code",
      "source": [
        "# Plot curah hujan\n",
        "plt.subplot(3, 1, 3)\n",
        "plt.plot(y_test.iloc[:, 2].values, label='Sebenarnya')\n",
        "plt.plot(y_pred[:, 2], label='Prediksi')\n",
        "plt.title('Prediksi dan Nilai Sebenarnya untuk Curah Hujan')\n",
        "plt.legend()"
      ],
      "metadata": {
        "colab": {
          "base_uri": "https://localhost:8080/",
          "height": 209
        },
        "id": "N1SCClrZN16J",
        "outputId": "8fed5fb8-99fd-482f-d5db-37faaac41902"
      },
      "execution_count": null,
      "outputs": [
        {
          "output_type": "execute_result",
          "data": {
            "text/plain": [
              "<matplotlib.legend.Legend at 0x7a0695a7bcd0>"
            ]
          },
          "metadata": {},
          "execution_count": 22
        },
        {
          "output_type": "display_data",
          "data": {
            "text/plain": [
              "<Figure size 640x480 with 1 Axes>"
            ],
            "image/png": "[encoded data removed]"
          },
          "metadata": {}
        }
      ]
    },
    {
      "cell_type": "code",
      "source": [
        "plt.tight_layout()\n",
        "plt.show()"
      ],
      "metadata": {
        "colab": {
          "base_uri": "https://localhost:8080/",
          "height": 35
        },
        "id": "zhX874NDN1xO",
        "outputId": "6cf4e854-77d8-4d90-d15e-b41a1a2e9600"
      },
      "execution_count": null,
      "outputs": [
        {
          "output_type": "display_data",
          "data": {
            "text/plain": [
              "<Figure size 640x480 with 0 Axes>"
            ]
          },
          "metadata": {}
        }
      ]
    }
  ]
}