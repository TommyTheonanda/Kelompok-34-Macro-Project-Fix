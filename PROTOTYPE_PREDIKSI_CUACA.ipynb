{
  "nbformat": 4,
  "nbformat_minor": 0,
  "metadata": {
    "colab": {
      "provenance": [],
      "gpuType": "T4"
    },
    "kernelspec": {
      "name": "python3",
      "display_name": "Python 3"
    },
    "language_info": {
      "name": "python"
    },
    "accelerator": "GPU"
  },
  "cells": [
    {
      "cell_type": "markdown",
      "source": [
        "1. Import Library"
      ],
      "metadata": {
        "id": "Wp6BwCZ91QQp"
      }
    },
    {
      "cell_type": "code",
      "execution_count": 1,
      "metadata": {
        "id": "619eCybxUk8I"
      },
      "outputs": [],
      "source": [
        "import pandas as pd\n",
        "import numpy as np\n",
        "import tensorflow as tf\n",
        "from sklearn.model_selection import train_test_split"
      ]
    },
    {
      "cell_type": "markdown",
      "source": [
        "2. Load Dataset"
      ],
      "metadata": {
        "id": "ioK383if1Lv4"
      }
    },
    {
      "cell_type": "code",
      "source": [
        "from google.colab import drive\n",
        "drive.mount('/content/drive')"
      ],
      "metadata": {
        "id": "_bVsxhv619Bq",
        "colab": {
          "base_uri": "https://localhost:8080/"
        },
        "outputId": "5e39b176-1abb-411f-bde0-cdda7a5ad975"
      },
      "execution_count": 2,
      "outputs": [
        {
          "output_type": "stream",
          "name": "stdout",
          "text": [
            "Mounted at /content/drive\n"
          ]
        }
      ]
    },
    {
      "cell_type": "markdown",
      "source": [
        "3. Membaca Dataset"
      ],
      "metadata": {
        "id": "IUTPDumX56UO"
      }
    },
    {
      "cell_type": "code",
      "source": [
        "data = pd.read_csv('/content/drive/MyDrive/Colab Notebooks/dataset/dataset.csv')  # Ubah 'nama_dataset.csv' sesuai dengan nama file dataset Anda"
      ],
      "metadata": {
        "id": "EXr9ZSFAzwzY"
      },
      "execution_count": 3,
      "outputs": []
    },
    {
      "cell_type": "markdown",
      "source": [
        "4. Menampilkan data dari Dataset"
      ],
      "metadata": {
        "id": "CA4Aroi9CjEd"
      }
    },
    {
      "cell_type": "code",
      "source": [
        "print(data)\n",
        "data.info()"
      ],
      "metadata": {
        "id": "0CpJYWBu1DpQ",
        "colab": {
          "base_uri": "https://localhost:8080/"
        },
        "outputId": "60f2f496-b86c-4cda-de0c-8611fbdec5f5"
      },
      "execution_count": 4,
      "outputs": [
        {
          "output_type": "stream",
          "name": "stdout",
          "text": [
            "     Label_Cuaca  Minimum Temperature  Maximum Temperature  Rainfall\n",
            "0     2021-01-01                 24.3                 32.1       1.5\n",
            "1     2021-01-02                 25.1                 33.3       0.0\n",
            "2     2021-01-03                 24.2                 31.3      23.4\n",
            "3     2021-01-04                 23.1                 31.7       9.7\n",
            "4     2021-01-05                 23.4                 33.8       0.0\n",
            "...          ...                  ...                  ...       ...\n",
            "1186  2024-04-01                 25.5                 31.3      15.3\n",
            "1187  2024-04-02                 25.7                 32.5      19.4\n",
            "1188  2024-04-03                 25.2                 33.9       1.6\n",
            "1189  2024-04-04                 25.3                 33.0       3.6\n",
            "1190  2024-04-05                 25.8                 33.8       1.0\n",
            "\n",
            "[1191 rows x 4 columns]\n",
            "<class 'pandas.core.frame.DataFrame'>\n",
            "RangeIndex: 1191 entries, 0 to 1190\n",
            "Data columns (total 4 columns):\n",
            " #   Column               Non-Null Count  Dtype  \n",
            "---  ------               --------------  -----  \n",
            " 0   Label_Cuaca          1191 non-null   object \n",
            " 1   Minimum Temperature  1191 non-null   float64\n",
            " 2   Maximum Temperature  1191 non-null   float64\n",
            " 3   Rainfall             1191 non-null   float64\n",
            "dtypes: float64(3), object(1)\n",
            "memory usage: 37.3+ KB\n"
          ]
        }
      ]
    },
    {
      "cell_type": "markdown",
      "source": [
        "5. Persiapan Data untuk Model LSTM"
      ],
      "metadata": {
        "id": "mlCuL--QCi-k"
      }
    },
    {
      "cell_type": "code",
      "source": [
        "# 2. Persiapan Data untuk Model LSTM\n",
        "# Pisahkan fitur (features) dan label (labels)\n",
        "features = data[['Minimum Temperature', 'Maximum Temperature', 'Rainfall']]\n",
        "labels = data[['Minimum Temperature', 'Maximum Temperature', 'Rainfall']]"
      ],
      "metadata": {
        "id": "Up0eiFf4z3BZ"
      },
      "execution_count": 5,
      "outputs": []
    },
    {
      "cell_type": "markdown",
      "source": [
        "6. Pisahkan data menjadi data latih dan data uji\n",
        "\n",
        "\n"
      ],
      "metadata": {
        "id": "YEQdliuDC1nA"
      }
    },
    {
      "cell_type": "code",
      "source": [
        "# Pisahkan data menjadi data latih dan data uji\n",
        "X_train, X_test, y_train, y_test = train_test_split(features, labels, test_size=0.2, random_state=42)"
      ],
      "metadata": {
        "id": "bi3Rq7gEz9a4"
      },
      "execution_count": 6,
      "outputs": []
    },
    {
      "cell_type": "markdown",
      "source": [
        "7. Pemodelan dengan LSTM menggunakan TensorFlow\n",
        "\n",
        "\n",
        "\n"
      ],
      "metadata": {
        "id": "nOuWBcEZC1u2"
      }
    },
    {
      "cell_type": "code",
      "source": [
        "# 3. Pemodelan dengan LSTM menggunakan TensorFlow\n",
        "# Tentukan jumlah time steps (jumlah langkah waktu) dan jumlah fitur\n",
        "n_timesteps = 1  # Untuk keperluan contoh sederhana, kita akan menggunakan 1 time step\n",
        "n_features = 3    # Jumlah fitur: temperatur minimum, temperatur maksimum, dan curah hujan"
      ],
      "metadata": {
        "id": "JpOxiIfF0CTg"
      },
      "execution_count": 7,
      "outputs": []
    },
    {
      "cell_type": "markdown",
      "source": [
        "8. Tentukan model LSTM itu sendiri"
      ],
      "metadata": {
        "id": "BoPLL-ciC14D"
      }
    },
    {
      "cell_type": "code",
      "source": [
        "# Tentukan model LSTM\n",
        "model = tf.keras.Sequential([\n",
        "    tf.keras.layers.LSTM(units=50, activation='relu', return_sequences=True, input_shape=(n_timesteps, n_features)),\n",
        "    tf.keras.layers.LSTM(units=50, activation='relu'),\n",
        "    tf.keras.layers.Dense(units=3)  # Output layer dengan 3 neuron untuk tiga parameter cuaca\n",
        "])"
      ],
      "metadata": {
        "id": "MLx3AYqO0Jho",
        "colab": {
          "base_uri": "https://localhost:8080/"
        },
        "outputId": "bfc5c923-6ecf-4330-c898-82e8bd286612"
      },
      "execution_count": 8,
      "outputs": [
        {
          "output_type": "stream",
          "name": "stderr",
          "text": [
            "WARNING:tensorflow:Layer lstm will not use cuDNN kernels since it doesn't meet the criteria. It will use a generic GPU kernel as fallback when running on GPU.\n",
            "WARNING:tensorflow:Layer lstm_1 will not use cuDNN kernels since it doesn't meet the criteria. It will use a generic GPU kernel as fallback when running on GPU.\n"
          ]
        }
      ]
    },
    {
      "cell_type": "markdown",
      "source": [
        "9. Kompilasi Model LSTM"
      ],
      "metadata": {
        "id": "c0WmzxhpC173"
      }
    },
    {
      "cell_type": "code",
      "source": [
        "# Kompilasi model\n",
        "model.compile(optimizer='adam', loss='mse')"
      ],
      "metadata": {
        "id": "4E9AYop_0NQY"
      },
      "execution_count": 9,
      "outputs": []
    },
    {
      "cell_type": "markdown",
      "source": [
        "10. Melatih model dengan data yang ada"
      ],
      "metadata": {
        "id": "Hf1CGqZ0CjJD"
      }
    },
    {
      "cell_type": "code",
      "source": [
        "# 4. Pelatihan Model\n",
        "# Latih model\n",
        "model.fit(X_train.values.reshape(-1, n_timesteps, n_features), y_train, epochs=100, batch_size=32, validation_data=(X_test.values.reshape(-1, n_timesteps, n_features), y_test))"
      ],
      "metadata": {
        "id": "Jczso08f0QSA",
        "colab": {
          "base_uri": "https://localhost:8080/"
        },
        "outputId": "e3ca79bb-e11d-4859-bd83-13a20c9a0537"
      },
      "execution_count": 10,
      "outputs": [
        {
          "output_type": "stream",
          "name": "stdout",
          "text": [
            "Epoch 1/100\n",
            "30/30 [==============================] - 6s 33ms/step - loss: 831.3421 - val_loss: 643.3309\n",
            "Epoch 2/100\n",
            "30/30 [==============================] - 0s 13ms/step - loss: 450.5706 - val_loss: 119.4889\n",
            "Epoch 3/100\n",
            "30/30 [==============================] - 0s 13ms/step - loss: 71.8282 - val_loss: 12.4860\n",
            "Epoch 4/100\n",
            "30/30 [==============================] - 0s 9ms/step - loss: 9.7712 - val_loss: 4.1043\n",
            "Epoch 5/100\n",
            "30/30 [==============================] - 0s 7ms/step - loss: 3.6560 - val_loss: 3.0708\n",
            "Epoch 6/100\n",
            "30/30 [==============================] - 0s 8ms/step - loss: 1.5553 - val_loss: 2.2707\n",
            "Epoch 7/100\n",
            "30/30 [==============================] - 0s 7ms/step - loss: 1.0859 - val_loss: 1.7596\n",
            "Epoch 8/100\n",
            "30/30 [==============================] - 0s 7ms/step - loss: 0.7084 - val_loss: 1.1036\n",
            "Epoch 9/100\n",
            "30/30 [==============================] - 0s 8ms/step - loss: 0.5128 - val_loss: 0.7974\n",
            "Epoch 10/100\n",
            "30/30 [==============================] - 0s 8ms/step - loss: 0.8943 - val_loss: 0.8754\n",
            "Epoch 11/100\n",
            "30/30 [==============================] - 0s 8ms/step - loss: 0.5359 - val_loss: 0.7847\n",
            "Epoch 12/100\n",
            "30/30 [==============================] - 0s 8ms/step - loss: 0.4441 - val_loss: 0.6495\n",
            "Epoch 13/100\n",
            "30/30 [==============================] - 0s 8ms/step - loss: 0.1764 - val_loss: 0.5689\n",
            "Epoch 14/100\n",
            "30/30 [==============================] - 0s 7ms/step - loss: 0.1310 - val_loss: 0.5471\n",
            "Epoch 15/100\n",
            "30/30 [==============================] - 0s 8ms/step - loss: 0.1959 - val_loss: 0.5696\n",
            "Epoch 16/100\n",
            "30/30 [==============================] - 0s 8ms/step - loss: 0.1072 - val_loss: 0.5385\n",
            "Epoch 17/100\n",
            "30/30 [==============================] - 0s 8ms/step - loss: 0.1149 - val_loss: 0.5331\n",
            "Epoch 18/100\n",
            "30/30 [==============================] - 0s 8ms/step - loss: 0.1262 - val_loss: 0.5305\n",
            "Epoch 19/100\n",
            "30/30 [==============================] - 0s 8ms/step - loss: 0.0842 - val_loss: 0.5085\n",
            "Epoch 20/100\n",
            "30/30 [==============================] - 0s 7ms/step - loss: 0.0770 - val_loss: 0.5048\n",
            "Epoch 21/100\n",
            "30/30 [==============================] - 0s 7ms/step - loss: 0.0870 - val_loss: 0.4978\n",
            "Epoch 22/100\n",
            "30/30 [==============================] - 0s 8ms/step - loss: 0.0790 - val_loss: 0.5175\n",
            "Epoch 23/100\n",
            "30/30 [==============================] - 0s 7ms/step - loss: 0.1309 - val_loss: 0.5199\n",
            "Epoch 24/100\n",
            "30/30 [==============================] - 0s 8ms/step - loss: 0.0981 - val_loss: 0.5015\n",
            "Epoch 25/100\n",
            "30/30 [==============================] - 0s 8ms/step - loss: 0.0504 - val_loss: 0.4765\n",
            "Epoch 26/100\n",
            "30/30 [==============================] - 0s 8ms/step - loss: 0.0501 - val_loss: 0.4802\n",
            "Epoch 27/100\n",
            "30/30 [==============================] - 0s 8ms/step - loss: 0.0467 - val_loss: 0.4938\n",
            "Epoch 28/100\n",
            "30/30 [==============================] - 0s 8ms/step - loss: 0.0452 - val_loss: 0.4668\n",
            "Epoch 29/100\n",
            "30/30 [==============================] - 0s 7ms/step - loss: 0.0383 - val_loss: 0.4743\n",
            "Epoch 30/100\n",
            "30/30 [==============================] - 0s 7ms/step - loss: 0.0474 - val_loss: 0.4650\n",
            "Epoch 31/100\n",
            "30/30 [==============================] - 0s 8ms/step - loss: 0.0387 - val_loss: 0.4568\n",
            "Epoch 32/100\n",
            "30/30 [==============================] - 0s 7ms/step - loss: 0.0315 - val_loss: 0.4625\n",
            "Epoch 33/100\n",
            "30/30 [==============================] - 0s 7ms/step - loss: 0.0356 - val_loss: 0.4595\n",
            "Epoch 34/100\n",
            "30/30 [==============================] - 0s 7ms/step - loss: 0.0341 - val_loss: 0.4538\n",
            "Epoch 35/100\n",
            "30/30 [==============================] - 0s 8ms/step - loss: 0.0351 - val_loss: 0.4650\n",
            "Epoch 36/100\n",
            "30/30 [==============================] - 0s 8ms/step - loss: 0.1007 - val_loss: 0.4760\n",
            "Epoch 37/100\n",
            "30/30 [==============================] - 0s 7ms/step - loss: 0.1426 - val_loss: 0.5180\n",
            "Epoch 38/100\n",
            "30/30 [==============================] - 0s 8ms/step - loss: 0.0537 - val_loss: 0.4780\n",
            "Epoch 39/100\n",
            "30/30 [==============================] - 0s 8ms/step - loss: 0.0400 - val_loss: 0.4506\n",
            "Epoch 40/100\n",
            "30/30 [==============================] - 0s 7ms/step - loss: 0.0405 - val_loss: 0.4591\n",
            "Epoch 41/100\n",
            "30/30 [==============================] - 0s 7ms/step - loss: 0.0602 - val_loss: 0.4674\n",
            "Epoch 42/100\n",
            "30/30 [==============================] - 0s 7ms/step - loss: 0.0361 - val_loss: 0.4360\n",
            "Epoch 43/100\n",
            "30/30 [==============================] - 0s 8ms/step - loss: 0.0358 - val_loss: 0.4378\n",
            "Epoch 44/100\n",
            "30/30 [==============================] - 0s 8ms/step - loss: 0.0182 - val_loss: 0.4413\n",
            "Epoch 45/100\n",
            "30/30 [==============================] - 0s 8ms/step - loss: 0.0158 - val_loss: 0.4433\n",
            "Epoch 46/100\n",
            "30/30 [==============================] - 0s 9ms/step - loss: 0.0188 - val_loss: 0.4449\n",
            "Epoch 47/100\n",
            "30/30 [==============================] - 0s 14ms/step - loss: 0.0174 - val_loss: 0.4361\n",
            "Epoch 48/100\n",
            "30/30 [==============================] - 0s 14ms/step - loss: 0.0312 - val_loss: 0.4336\n",
            "Epoch 49/100\n",
            "30/30 [==============================] - 0s 12ms/step - loss: 0.0232 - val_loss: 0.4511\n",
            "Epoch 50/100\n",
            "30/30 [==============================] - 0s 15ms/step - loss: 0.0157 - val_loss: 0.4250\n",
            "Epoch 51/100\n",
            "30/30 [==============================] - 0s 14ms/step - loss: 0.0136 - val_loss: 0.4304\n",
            "Epoch 52/100\n",
            "30/30 [==============================] - 0s 13ms/step - loss: 0.0194 - val_loss: 0.4337\n",
            "Epoch 53/100\n",
            "30/30 [==============================] - 0s 15ms/step - loss: 0.0155 - val_loss: 0.4310\n",
            "Epoch 54/100\n",
            "30/30 [==============================] - 0s 10ms/step - loss: 0.0163 - val_loss: 0.4275\n",
            "Epoch 55/100\n",
            "30/30 [==============================] - 0s 7ms/step - loss: 0.0213 - val_loss: 0.4364\n",
            "Epoch 56/100\n",
            "30/30 [==============================] - 0s 8ms/step - loss: 0.0312 - val_loss: 0.4275\n",
            "Epoch 57/100\n",
            "30/30 [==============================] - 0s 7ms/step - loss: 0.0431 - val_loss: 0.4277\n",
            "Epoch 58/100\n",
            "30/30 [==============================] - 0s 8ms/step - loss: 0.0269 - val_loss: 0.4246\n",
            "Epoch 59/100\n",
            "30/30 [==============================] - 0s 8ms/step - loss: 0.0330 - val_loss: 0.4367\n",
            "Epoch 60/100\n",
            "30/30 [==============================] - 0s 8ms/step - loss: 0.0304 - val_loss: 0.4324\n",
            "Epoch 61/100\n",
            "30/30 [==============================] - 0s 8ms/step - loss: 0.0320 - val_loss: 0.4409\n",
            "Epoch 62/100\n",
            "30/30 [==============================] - 0s 7ms/step - loss: 0.0570 - val_loss: 0.4216\n",
            "Epoch 63/100\n",
            "30/30 [==============================] - 0s 8ms/step - loss: 0.1328 - val_loss: 0.5066\n",
            "Epoch 64/100\n",
            "30/30 [==============================] - 0s 9ms/step - loss: 0.0492 - val_loss: 0.4372\n",
            "Epoch 65/100\n",
            "30/30 [==============================] - 0s 8ms/step - loss: 0.0247 - val_loss: 0.4324\n",
            "Epoch 66/100\n",
            "30/30 [==============================] - 0s 8ms/step - loss: 0.0305 - val_loss: 0.4532\n",
            "Epoch 67/100\n",
            "30/30 [==============================] - 0s 8ms/step - loss: 0.0219 - val_loss: 0.4254\n",
            "Epoch 68/100\n",
            "30/30 [==============================] - 0s 9ms/step - loss: 0.0438 - val_loss: 0.4279\n",
            "Epoch 69/100\n",
            "30/30 [==============================] - 0s 8ms/step - loss: 0.0584 - val_loss: 0.4571\n",
            "Epoch 70/100\n",
            "30/30 [==============================] - 0s 8ms/step - loss: 0.0442 - val_loss: 0.4794\n",
            "Epoch 71/100\n",
            "30/30 [==============================] - 0s 14ms/step - loss: 0.0420 - val_loss: 0.4214\n",
            "Epoch 72/100\n",
            "30/30 [==============================] - 0s 15ms/step - loss: 0.0929 - val_loss: 0.5019\n",
            "Epoch 73/100\n",
            "30/30 [==============================] - 0s 15ms/step - loss: 0.0293 - val_loss: 0.4222\n",
            "Epoch 74/100\n",
            "30/30 [==============================] - 0s 15ms/step - loss: 0.0278 - val_loss: 0.4350\n",
            "Epoch 75/100\n",
            "30/30 [==============================] - 0s 14ms/step - loss: 0.0304 - val_loss: 0.4475\n",
            "Epoch 76/100\n",
            "30/30 [==============================] - 0s 13ms/step - loss: 0.0151 - val_loss: 0.4236\n",
            "Epoch 77/100\n",
            "30/30 [==============================] - 0s 15ms/step - loss: 0.0259 - val_loss: 0.4153\n",
            "Epoch 78/100\n",
            "30/30 [==============================] - 0s 15ms/step - loss: 0.0219 - val_loss: 0.4168\n",
            "Epoch 79/100\n",
            "30/30 [==============================] - 0s 8ms/step - loss: 0.0094 - val_loss: 0.4122\n",
            "Epoch 80/100\n",
            "30/30 [==============================] - 0s 8ms/step - loss: 0.0257 - val_loss: 0.4192\n",
            "Epoch 81/100\n",
            "30/30 [==============================] - 0s 8ms/step - loss: 0.0488 - val_loss: 0.4333\n",
            "Epoch 82/100\n",
            "30/30 [==============================] - 0s 8ms/step - loss: 0.0751 - val_loss: 0.4380\n",
            "Epoch 83/100\n",
            "30/30 [==============================] - 0s 9ms/step - loss: 0.0504 - val_loss: 0.4511\n",
            "Epoch 84/100\n",
            "30/30 [==============================] - 0s 8ms/step - loss: 0.0457 - val_loss: 0.4144\n",
            "Epoch 85/100\n",
            "30/30 [==============================] - 0s 8ms/step - loss: 0.0386 - val_loss: 0.4258\n",
            "Epoch 86/100\n",
            "30/30 [==============================] - 0s 8ms/step - loss: 0.0740 - val_loss: 0.4369\n",
            "Epoch 87/100\n",
            "30/30 [==============================] - 0s 8ms/step - loss: 0.0394 - val_loss: 0.4153\n",
            "Epoch 88/100\n",
            "30/30 [==============================] - 0s 8ms/step - loss: 0.1154 - val_loss: 0.6172\n",
            "Epoch 89/100\n",
            "30/30 [==============================] - 0s 13ms/step - loss: 0.0889 - val_loss: 0.4660\n",
            "Epoch 90/100\n",
            "30/30 [==============================] - 0s 14ms/step - loss: 0.0494 - val_loss: 0.4290\n",
            "Epoch 91/100\n",
            "30/30 [==============================] - 0s 14ms/step - loss: 0.0254 - val_loss: 0.4250\n",
            "Epoch 92/100\n",
            "30/30 [==============================] - 0s 14ms/step - loss: 0.0281 - val_loss: 0.4316\n",
            "Epoch 93/100\n",
            "30/30 [==============================] - 0s 15ms/step - loss: 0.0236 - val_loss: 0.4110\n",
            "Epoch 94/100\n",
            "30/30 [==============================] - 0s 15ms/step - loss: 0.0173 - val_loss: 0.4362\n",
            "Epoch 95/100\n",
            "30/30 [==============================] - 0s 14ms/step - loss: 0.0204 - val_loss: 0.4210\n",
            "Epoch 96/100\n",
            "30/30 [==============================] - 0s 11ms/step - loss: 0.0283 - val_loss: 0.4180\n",
            "Epoch 97/100\n",
            "30/30 [==============================] - 0s 8ms/step - loss: 0.0338 - val_loss: 0.4437\n",
            "Epoch 98/100\n",
            "30/30 [==============================] - 0s 8ms/step - loss: 0.0414 - val_loss: 0.4510\n",
            "Epoch 99/100\n",
            "30/30 [==============================] - 0s 8ms/step - loss: 0.0515 - val_loss: 0.4436\n",
            "Epoch 100/100\n",
            "30/30 [==============================] - 0s 8ms/step - loss: 0.0858 - val_loss: 0.4642\n"
          ]
        },
        {
          "output_type": "execute_result",
          "data": {
            "text/plain": [
              "<keras.src.callbacks.History at 0x78f3a017f460>"
            ]
          },
          "metadata": {},
          "execution_count": 10
        }
      ]
    },
    {
      "cell_type": "markdown",
      "source": [
        "11. Evaluasi Model AI yang ada\n",
        "\n"
      ],
      "metadata": {
        "id": "Fg5dgAMDCjLg"
      }
    },
    {
      "cell_type": "code",
      "source": [
        "# 5. Evaluasi Model\n",
        "# Evaluasi model\n",
        "loss = model.evaluate(X_test.values.reshape(-1, n_timesteps, n_features), y_test)"
      ],
      "metadata": {
        "id": "YdV9hKTJ0YaB",
        "colab": {
          "base_uri": "https://localhost:8080/"
        },
        "outputId": "9c7b7e20-643f-4584-ec79-490d33f5d01b"
      },
      "execution_count": 11,
      "outputs": [
        {
          "output_type": "stream",
          "name": "stdout",
          "text": [
            "8/8 [==============================] - 0s 4ms/step - loss: 0.4642\n"
          ]
        }
      ]
    },
    {
      "cell_type": "markdown",
      "source": [
        "12. Prediksi Kondisi Cuaca"
      ],
      "metadata": {
        "id": "GtsTKn6zBm1v"
      }
    },
    {
      "cell_type": "code",
      "source": [
        "# 6. Prediksi Kondisi Cuaca\n",
        "# Gunakan model LSTM untuk memprediksi kondisi cuaca\n",
        "input_data = np.array([[20, 30, 5]])  # Contoh data input: temperatur minimum = 20, temperatur maksimum = 30, curah hujan = 5\n",
        "prediksi_cuaca = model.predict(input_data.reshape(-1, n_timesteps, n_features))\n",
        "print(\"Prediksi kondisi cuaca (Minimum Temperature, Maximum Temperature, Rainfall):\", prediksi_cuaca)"
      ],
      "metadata": {
        "id": "6KD6SmJM0cyQ",
        "colab": {
          "base_uri": "https://localhost:8080/"
        },
        "outputId": "61a2a84b-2100-4cab-86f0-ba229cd4c2e0"
      },
      "execution_count": 12,
      "outputs": [
        {
          "output_type": "stream",
          "name": "stdout",
          "text": [
            "1/1 [==============================] - 0s 462ms/step\n",
            "Prediksi kondisi cuaca (Minimum Temperature, Maximum Temperature, Rainfall): [[19.852455  29.986448   4.8968024]]\n"
          ]
        }
      ]
    }
  ]
}