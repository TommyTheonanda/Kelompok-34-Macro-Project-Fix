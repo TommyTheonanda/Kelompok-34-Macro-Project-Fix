{
  "nbformat": 4,
  "nbformat_minor": 0,
  "metadata": {
    "colab": {
      "provenance": [],
      "gpuType": "T4"
    },
    "kernelspec": {
      "name": "python3",
      "display_name": "Python 3"
    },
    "language_info": {
      "name": "python"
    },
    "accelerator": "GPU"
  },
  "cells": [
    {
      "cell_type": "markdown",
      "source": [
        "1. Import Library"
      ],
      "metadata": {
        "id": "Wp6BwCZ91QQp"
      }
    },
    {
      "cell_type": "code",
      "execution_count": 1,
      "metadata": {
        "id": "619eCybxUk8I"
      },
      "outputs": [],
      "source": [
        "import pandas as pd\n",
        "import numpy as np\n",
        "import tensorflow as tf\n",
        "from sklearn.model_selection import train_test_split"
      ]
    },
    {
      "cell_type": "markdown",
      "source": [
        "2. Load Dataset"
      ],
      "metadata": {
        "id": "ioK383if1Lv4"
      }
    },
    {
      "cell_type": "code",
      "source": [
        "from google.colab import drive\n",
        "drive.mount('/content/drive')"
      ],
      "metadata": {
        "colab": {
          "base_uri": "https://localhost:8080/"
        },
        "id": "_bVsxhv619Bq",
        "outputId": "6203dcc4-00cd-4705-8e95-0908649f750b"
      },
      "execution_count": 2,
      "outputs": [
        {
          "output_type": "stream",
          "name": "stdout",
          "text": [
            "Mounted at /content/drive\n"
          ]
        }
      ]
    },
    {
      "cell_type": "markdown",
      "source": [
        "3. Membaca Dataset"
      ],
      "metadata": {
        "id": "IUTPDumX56UO"
      }
    },
    {
      "cell_type": "code",
      "source": [
        "data = pd.read_csv('/content/drive/MyDrive/Colab Notebooks/dataset/dataset.csv')  # Ubah 'nama_dataset.csv' sesuai dengan nama file dataset Anda"
      ],
      "metadata": {
        "id": "EXr9ZSFAzwzY"
      },
      "execution_count": 3,
      "outputs": []
    },
    {
      "cell_type": "markdown",
      "source": [
        "4. Menampilkan data dari Dataset"
      ],
      "metadata": {
        "id": "CA4Aroi9CjEd"
      }
    },
    {
      "cell_type": "code",
      "source": [
        "print(data)\n",
        "data.info()"
      ],
      "metadata": {
        "id": "0CpJYWBu1DpQ",
        "colab": {
          "base_uri": "https://localhost:8080/"
        },
        "outputId": "60bf7515-04c2-4081-9a82-10f547577af3"
      },
      "execution_count": 4,
      "outputs": [
        {
          "output_type": "stream",
          "name": "stdout",
          "text": [
            "     Label_Cuaca  Minimum Temperature  Maximum Temperature  Rainfall\n",
            "0     2021-01-01                 24.3                 32.1       1.5\n",
            "1     2021-01-02                 25.1                 33.3       0.0\n",
            "2     2021-01-03                 24.2                 31.3      23.4\n",
            "3     2021-01-04                 23.1                 31.7       9.7\n",
            "4     2021-01-05                 23.4                 33.8       0.0\n",
            "...          ...                  ...                  ...       ...\n",
            "1186  2024-04-01                 25.5                 31.3      15.3\n",
            "1187  2024-04-02                 25.7                 32.5      19.4\n",
            "1188  2024-04-03                 25.2                 33.9       1.6\n",
            "1189  2024-04-04                 25.3                 33.0       3.6\n",
            "1190  2024-04-05                 25.8                 33.8       1.0\n",
            "\n",
            "[1191 rows x 4 columns]\n",
            "<class 'pandas.core.frame.DataFrame'>\n",
            "RangeIndex: 1191 entries, 0 to 1190\n",
            "Data columns (total 4 columns):\n",
            " #   Column               Non-Null Count  Dtype  \n",
            "---  ------               --------------  -----  \n",
            " 0   Label_Cuaca          1191 non-null   object \n",
            " 1   Minimum Temperature  1191 non-null   float64\n",
            " 2   Maximum Temperature  1191 non-null   float64\n",
            " 3   Rainfall             1191 non-null   float64\n",
            "dtypes: float64(3), object(1)\n",
            "memory usage: 37.3+ KB\n"
          ]
        }
      ]
    },
    {
      "cell_type": "markdown",
      "source": [
        "5. Persiapan Data untuk Model LSTM"
      ],
      "metadata": {
        "id": "mlCuL--QCi-k"
      }
    },
    {
      "cell_type": "code",
      "source": [
        "# 2. Persiapan Data untuk Model LSTM\n",
        "# Pisahkan fitur (features) dan label (labels)\n",
        "features = data[['Minimum Temperature', 'Maximum Temperature', 'Rainfall']]\n",
        "labels = data[['Minimum Temperature', 'Maximum Temperature', 'Rainfall']]"
      ],
      "metadata": {
        "id": "Up0eiFf4z3BZ"
      },
      "execution_count": 5,
      "outputs": []
    },
    {
      "cell_type": "markdown",
      "source": [
        "6. Pisahkan data menjadi data latih dan data uji\n"
      ],
      "metadata": {
        "id": "YEQdliuDC1nA"
      }
    },
    {
      "cell_type": "code",
      "source": [
        "# Pisahkan data menjadi data latih dan data uji\n",
        "X_train, X_test, y_train, y_test = train_test_split(features, labels, test_size=0.2, random_state=42)"
      ],
      "metadata": {
        "id": "bi3Rq7gEz9a4"
      },
      "execution_count": 6,
      "outputs": []
    },
    {
      "cell_type": "markdown",
      "source": [
        "7. Pemodelan dengan LSTM menggunakan TensorFlow\n",
        "\n",
        "\n",
        "\n"
      ],
      "metadata": {
        "id": "nOuWBcEZC1u2"
      }
    },
    {
      "cell_type": "code",
      "source": [
        "# 3. Pemodelan dengan LSTM menggunakan TensorFlow\n",
        "# Tentukan jumlah time steps (jumlah langkah waktu) dan jumlah fitur\n",
        "n_timesteps = 1  # Untuk keperluan contoh sederhana, kita akan menggunakan 1 time step\n",
        "n_features = 3    # Jumlah fitur: temperatur minimum, temperatur maksimum, dan curah hujan"
      ],
      "metadata": {
        "id": "JpOxiIfF0CTg"
      },
      "execution_count": 7,
      "outputs": []
    },
    {
      "cell_type": "markdown",
      "source": [
        "8. Meningkatkan kompleksitas model"
      ],
      "metadata": {
        "id": "BoPLL-ciC14D"
      }
    },
    {
      "cell_type": "code",
      "source": [
        "# Meningkatkan kompleksitas model\n",
        "model = tf.keras.Sequential([\n",
        "    tf.keras.layers.LSTM(units=100, activation='relu', return_sequences=True, input_shape=(n_timesteps, n_features)),\n",
        "    tf.keras.layers.LSTM(units=100, activation='relu'),\n",
        "    tf.keras.layers.Dense(units=3)\n",
        "])\n"
      ],
      "metadata": {
        "id": "MLx3AYqO0Jho",
        "colab": {
          "base_uri": "https://localhost:8080/"
        },
        "outputId": "d4f04b15-c085-4148-e237-3706c6ddd3e3"
      },
      "execution_count": 8,
      "outputs": [
        {
          "output_type": "stream",
          "name": "stderr",
          "text": [
            "WARNING:tensorflow:Layer lstm will not use cuDNN kernels since it doesn't meet the criteria. It will use a generic GPU kernel as fallback when running on GPU.\n",
            "WARNING:tensorflow:Layer lstm_1 will not use cuDNN kernels since it doesn't meet the criteria. It will use a generic GPU kernel as fallback when running on GPU.\n"
          ]
        }
      ]
    },
    {
      "cell_type": "markdown",
      "source": [
        "9. Kompilasi Model LSTM"
      ],
      "metadata": {
        "id": "c0WmzxhpC173"
      }
    },
    {
      "cell_type": "code",
      "source": [
        "# Kompilasi Model\n",
        "model.compile(optimizer=tf.keras.optimizers.Adam(lr=0.001), loss='mse')"
      ],
      "metadata": {
        "id": "4E9AYop_0NQY",
        "colab": {
          "base_uri": "https://localhost:8080/"
        },
        "outputId": "755daf0f-336f-4f9a-e75b-5335d8ea9278"
      },
      "execution_count": 9,
      "outputs": [
        {
          "output_type": "stream",
          "name": "stderr",
          "text": [
            "WARNING:absl:`lr` is deprecated in Keras optimizer, please use `learning_rate` or use the legacy optimizer, e.g.,tf.keras.optimizers.legacy.Adam.\n"
          ]
        }
      ]
    },
    {
      "cell_type": "markdown",
      "source": [
        "\n",
        "10. Melatih data dengan lebih banyak epoch"
      ],
      "metadata": {
        "id": "Hf1CGqZ0CjJD"
      }
    },
    {
      "cell_type": "code",
      "source": [
        "# Melatih data dengan lebih banyak epoch\n",
        "model.fit(X_train.values.reshape(-1, n_timesteps, n_features), y_train, epochs=200, batch_size=32, validation_data=(X_test.values.reshape(-1, n_timesteps, n_features), y_test))"
      ],
      "metadata": {
        "id": "Jczso08f0QSA",
        "colab": {
          "base_uri": "https://localhost:8080/"
        },
        "outputId": "4fe3282c-2954-4df7-ae86-5ecd47170fd6"
      },
      "execution_count": 10,
      "outputs": [
        {
          "output_type": "stream",
          "name": "stdout",
          "text": [
            "Epoch 1/200\n",
            "30/30 [==============================] - 5s 21ms/step - loss: 718.1462 - val_loss: 325.7189\n",
            "Epoch 2/200\n",
            "30/30 [==============================] - 0s 9ms/step - loss: 121.8401 - val_loss: 14.2278\n",
            "Epoch 3/200\n",
            "30/30 [==============================] - 0s 10ms/step - loss: 14.0266 - val_loss: 4.7755\n",
            "Epoch 4/200\n",
            "30/30 [==============================] - 0s 9ms/step - loss: 3.6509 - val_loss: 3.3766\n",
            "Epoch 5/200\n",
            "30/30 [==============================] - 0s 8ms/step - loss: 1.7148 - val_loss: 2.5830\n",
            "Epoch 6/200\n",
            "30/30 [==============================] - 0s 8ms/step - loss: 1.2237 - val_loss: 2.0644\n",
            "Epoch 7/200\n",
            "30/30 [==============================] - 0s 9ms/step - loss: 0.7675 - val_loss: 1.3967\n",
            "Epoch 8/200\n",
            "30/30 [==============================] - 0s 8ms/step - loss: 0.4368 - val_loss: 1.0444\n",
            "Epoch 9/200\n",
            "30/30 [==============================] - 0s 8ms/step - loss: 0.3603 - val_loss: 0.8178\n",
            "Epoch 10/200\n",
            "30/30 [==============================] - 0s 8ms/step - loss: 0.6954 - val_loss: 0.6764\n",
            "Epoch 11/200\n",
            "30/30 [==============================] - 0s 9ms/step - loss: 0.2061 - val_loss: 0.7011\n",
            "Epoch 12/200\n",
            "30/30 [==============================] - 0s 9ms/step - loss: 0.2110 - val_loss: 0.5791\n",
            "Epoch 13/200\n",
            "30/30 [==============================] - 0s 16ms/step - loss: 0.2250 - val_loss: 0.6157\n",
            "Epoch 14/200\n",
            "30/30 [==============================] - 0s 16ms/step - loss: 0.3109 - val_loss: 0.5472\n",
            "Epoch 15/200\n",
            "30/30 [==============================] - 0s 15ms/step - loss: 0.1333 - val_loss: 0.5191\n",
            "Epoch 16/200\n",
            "30/30 [==============================] - 0s 16ms/step - loss: 0.0702 - val_loss: 0.5077\n",
            "Epoch 17/200\n",
            "30/30 [==============================] - 0s 15ms/step - loss: 0.0942 - val_loss: 0.4983\n",
            "Epoch 18/200\n",
            "30/30 [==============================] - 0s 16ms/step - loss: 0.0642 - val_loss: 0.4987\n",
            "Epoch 19/200\n",
            "30/30 [==============================] - 1s 17ms/step - loss: 0.0642 - val_loss: 0.4870\n",
            "Epoch 20/200\n",
            "30/30 [==============================] - 0s 10ms/step - loss: 0.0947 - val_loss: 0.4941\n",
            "Epoch 21/200\n",
            "30/30 [==============================] - 0s 9ms/step - loss: 0.0704 - val_loss: 0.4572\n",
            "Epoch 22/200\n",
            "30/30 [==============================] - 0s 8ms/step - loss: 0.0460 - val_loss: 0.4610\n",
            "Epoch 23/200\n",
            "30/30 [==============================] - 0s 9ms/step - loss: 0.0430 - val_loss: 0.4513\n",
            "Epoch 24/200\n",
            "30/30 [==============================] - 0s 8ms/step - loss: 0.0255 - val_loss: 0.4435\n",
            "Epoch 25/200\n",
            "30/30 [==============================] - 0s 9ms/step - loss: 0.0263 - val_loss: 0.4421\n",
            "Epoch 26/200\n",
            "30/30 [==============================] - 0s 8ms/step - loss: 0.0416 - val_loss: 0.4498\n",
            "Epoch 27/200\n",
            "30/30 [==============================] - 0s 8ms/step - loss: 0.0591 - val_loss: 0.4619\n",
            "Epoch 28/200\n",
            "30/30 [==============================] - 0s 8ms/step - loss: 0.0962 - val_loss: 0.4654\n",
            "Epoch 29/200\n",
            "30/30 [==============================] - 0s 9ms/step - loss: 0.1152 - val_loss: 0.4388\n",
            "Epoch 30/200\n",
            "30/30 [==============================] - 0s 8ms/step - loss: 0.0286 - val_loss: 0.4377\n",
            "Epoch 31/200\n",
            "30/30 [==============================] - 0s 8ms/step - loss: 0.0173 - val_loss: 0.4329\n",
            "Epoch 32/200\n",
            "30/30 [==============================] - 0s 8ms/step - loss: 0.0113 - val_loss: 0.4282\n",
            "Epoch 33/200\n",
            "30/30 [==============================] - 0s 9ms/step - loss: 0.0111 - val_loss: 0.4284\n",
            "Epoch 34/200\n",
            "30/30 [==============================] - 0s 8ms/step - loss: 0.0102 - val_loss: 0.4308\n",
            "Epoch 35/200\n",
            "30/30 [==============================] - 0s 8ms/step - loss: 0.0123 - val_loss: 0.4306\n",
            "Epoch 36/200\n",
            "30/30 [==============================] - 0s 8ms/step - loss: 0.0115 - val_loss: 0.4246\n",
            "Epoch 37/200\n",
            "30/30 [==============================] - 0s 9ms/step - loss: 0.0150 - val_loss: 0.4271\n",
            "Epoch 38/200\n",
            "30/30 [==============================] - 0s 8ms/step - loss: 0.0103 - val_loss: 0.4209\n",
            "Epoch 39/200\n",
            "30/30 [==============================] - 0s 9ms/step - loss: 0.0087 - val_loss: 0.4235\n",
            "Epoch 40/200\n",
            "30/30 [==============================] - 0s 8ms/step - loss: 0.0070 - val_loss: 0.4209\n",
            "Epoch 41/200\n",
            "30/30 [==============================] - 0s 8ms/step - loss: 0.0057 - val_loss: 0.4181\n",
            "Epoch 42/200\n",
            "30/30 [==============================] - 0s 8ms/step - loss: 0.0063 - val_loss: 0.4168\n",
            "Epoch 43/200\n",
            "30/30 [==============================] - 0s 8ms/step - loss: 0.0065 - val_loss: 0.4188\n",
            "Epoch 44/200\n",
            "30/30 [==============================] - 0s 8ms/step - loss: 0.0061 - val_loss: 0.4170\n",
            "Epoch 45/200\n",
            "30/30 [==============================] - 0s 8ms/step - loss: 0.0095 - val_loss: 0.4179\n",
            "Epoch 46/200\n",
            "30/30 [==============================] - 0s 8ms/step - loss: 0.0062 - val_loss: 0.4182\n",
            "Epoch 47/200\n",
            "30/30 [==============================] - 0s 8ms/step - loss: 0.0087 - val_loss: 0.4409\n",
            "Epoch 48/200\n",
            "30/30 [==============================] - 0s 8ms/step - loss: 0.0157 - val_loss: 0.4185\n",
            "Epoch 49/200\n",
            "30/30 [==============================] - 0s 8ms/step - loss: 0.0100 - val_loss: 0.4148\n",
            "Epoch 50/200\n",
            "30/30 [==============================] - 0s 8ms/step - loss: 0.0057 - val_loss: 0.4127\n",
            "Epoch 51/200\n",
            "30/30 [==============================] - 0s 8ms/step - loss: 0.0040 - val_loss: 0.4117\n",
            "Epoch 52/200\n",
            "30/30 [==============================] - 0s 8ms/step - loss: 0.0039 - val_loss: 0.4092\n",
            "Epoch 53/200\n",
            "30/30 [==============================] - 0s 8ms/step - loss: 0.0040 - val_loss: 0.4094\n",
            "Epoch 54/200\n",
            "30/30 [==============================] - 0s 8ms/step - loss: 0.0095 - val_loss: 0.4138\n",
            "Epoch 55/200\n",
            "30/30 [==============================] - 0s 8ms/step - loss: 0.0082 - val_loss: 0.4079\n",
            "Epoch 56/200\n",
            "30/30 [==============================] - 0s 8ms/step - loss: 0.0277 - val_loss: 0.4164\n",
            "Epoch 57/200\n",
            "30/30 [==============================] - 0s 8ms/step - loss: 0.0272 - val_loss: 0.4686\n",
            "Epoch 58/200\n",
            "30/30 [==============================] - 0s 8ms/step - loss: 0.0820 - val_loss: 0.4443\n",
            "Epoch 59/200\n",
            "30/30 [==============================] - 0s 11ms/step - loss: 0.0707 - val_loss: 0.4467\n",
            "Epoch 60/200\n",
            "30/30 [==============================] - 0s 16ms/step - loss: 0.0665 - val_loss: 0.4326\n",
            "Epoch 61/200\n",
            "30/30 [==============================] - 0s 13ms/step - loss: 0.1311 - val_loss: 0.4599\n",
            "Epoch 62/200\n",
            "30/30 [==============================] - 0s 15ms/step - loss: 0.1088 - val_loss: 0.5281\n",
            "Epoch 63/200\n",
            "30/30 [==============================] - 0s 15ms/step - loss: 0.3350 - val_loss: 0.4861\n",
            "Epoch 64/200\n",
            "30/30 [==============================] - 0s 16ms/step - loss: 0.2956 - val_loss: 0.5284\n",
            "Epoch 65/200\n",
            "30/30 [==============================] - 0s 16ms/step - loss: 0.4519 - val_loss: 0.5350\n",
            "Epoch 66/200\n",
            "30/30 [==============================] - 0s 16ms/step - loss: 0.1819 - val_loss: 0.4694\n",
            "Epoch 67/200\n",
            "30/30 [==============================] - 0s 11ms/step - loss: 0.0681 - val_loss: 0.4923\n",
            "Epoch 68/200\n",
            "30/30 [==============================] - 0s 9ms/step - loss: 0.1042 - val_loss: 0.4431\n",
            "Epoch 69/200\n",
            "30/30 [==============================] - 0s 9ms/step - loss: 0.0728 - val_loss: 0.4263\n",
            "Epoch 70/200\n",
            "30/30 [==============================] - 0s 8ms/step - loss: 0.0820 - val_loss: 0.4181\n",
            "Epoch 71/200\n",
            "30/30 [==============================] - 0s 8ms/step - loss: 0.0411 - val_loss: 0.4221\n",
            "Epoch 72/200\n",
            "30/30 [==============================] - 0s 9ms/step - loss: 0.0246 - val_loss: 0.4117\n",
            "Epoch 73/200\n",
            "30/30 [==============================] - 0s 8ms/step - loss: 0.0103 - val_loss: 0.4088\n",
            "Epoch 74/200\n",
            "30/30 [==============================] - 0s 8ms/step - loss: 0.0277 - val_loss: 0.4397\n",
            "Epoch 75/200\n",
            "30/30 [==============================] - 0s 8ms/step - loss: 0.0775 - val_loss: 0.4705\n",
            "Epoch 76/200\n",
            "30/30 [==============================] - 0s 9ms/step - loss: 0.2565 - val_loss: 0.5388\n",
            "Epoch 77/200\n",
            "30/30 [==============================] - 0s 8ms/step - loss: 0.1552 - val_loss: 0.4216\n",
            "Epoch 78/200\n",
            "30/30 [==============================] - 0s 8ms/step - loss: 0.0612 - val_loss: 0.4081\n",
            "Epoch 79/200\n",
            "30/30 [==============================] - 0s 12ms/step - loss: 0.0133 - val_loss: 0.4065\n",
            "Epoch 80/200\n",
            "30/30 [==============================] - 0s 13ms/step - loss: 0.0103 - val_loss: 0.4040\n",
            "Epoch 81/200\n",
            "30/30 [==============================] - 0s 8ms/step - loss: 0.0152 - val_loss: 0.3993\n",
            "Epoch 82/200\n",
            "30/30 [==============================] - 0s 8ms/step - loss: 0.0052 - val_loss: 0.4059\n",
            "Epoch 83/200\n",
            "30/30 [==============================] - 0s 8ms/step - loss: 0.0253 - val_loss: 0.4043\n",
            "Epoch 84/200\n",
            "30/30 [==============================] - 0s 8ms/step - loss: 0.0108 - val_loss: 0.4022\n",
            "Epoch 85/200\n",
            "30/30 [==============================] - 0s 8ms/step - loss: 0.0248 - val_loss: 0.4447\n",
            "Epoch 86/200\n",
            "30/30 [==============================] - 0s 8ms/step - loss: 0.0321 - val_loss: 0.4000\n",
            "Epoch 87/200\n",
            "30/30 [==============================] - 0s 8ms/step - loss: 0.0058 - val_loss: 0.3972\n",
            "Epoch 88/200\n",
            "30/30 [==============================] - 0s 8ms/step - loss: 0.0050 - val_loss: 0.3980\n",
            "Epoch 89/200\n",
            "30/30 [==============================] - 0s 8ms/step - loss: 0.0499 - val_loss: 0.4251\n",
            "Epoch 90/200\n",
            "30/30 [==============================] - 0s 7ms/step - loss: 0.1307 - val_loss: 0.4711\n",
            "Epoch 91/200\n",
            "30/30 [==============================] - 0s 8ms/step - loss: 0.1977 - val_loss: 0.4871\n",
            "Epoch 92/200\n",
            "30/30 [==============================] - 0s 8ms/step - loss: 0.1992 - val_loss: 0.4505\n",
            "Epoch 93/200\n",
            "30/30 [==============================] - 0s 8ms/step - loss: 0.0692 - val_loss: 0.4243\n",
            "Epoch 94/200\n",
            "30/30 [==============================] - 0s 8ms/step - loss: 0.2898 - val_loss: 0.4735\n",
            "Epoch 95/200\n",
            "30/30 [==============================] - 0s 8ms/step - loss: 0.1472 - val_loss: 0.6083\n",
            "Epoch 96/200\n",
            "30/30 [==============================] - 0s 8ms/step - loss: 0.0969 - val_loss: 0.4112\n",
            "Epoch 97/200\n",
            "30/30 [==============================] - 0s 8ms/step - loss: 0.1143 - val_loss: 0.5067\n",
            "Epoch 98/200\n",
            "30/30 [==============================] - 0s 8ms/step - loss: 0.0989 - val_loss: 0.4451\n",
            "Epoch 99/200\n",
            "30/30 [==============================] - 0s 8ms/step - loss: 0.0692 - val_loss: 0.4313\n",
            "Epoch 100/200\n",
            "30/30 [==============================] - 0s 8ms/step - loss: 0.0217 - val_loss: 0.3957\n",
            "Epoch 101/200\n",
            "30/30 [==============================] - 0s 13ms/step - loss: 0.0170 - val_loss: 0.3937\n",
            "Epoch 102/200\n",
            "30/30 [==============================] - 0s 8ms/step - loss: 0.0074 - val_loss: 0.3898\n",
            "Epoch 103/200\n",
            "30/30 [==============================] - 0s 13ms/step - loss: 0.0050 - val_loss: 0.3880\n",
            "Epoch 104/200\n",
            "30/30 [==============================] - 0s 10ms/step - loss: 0.0041 - val_loss: 0.3884\n",
            "Epoch 105/200\n",
            "30/30 [==============================] - 0s 16ms/step - loss: 0.0036 - val_loss: 0.3876\n",
            "Epoch 106/200\n",
            "30/30 [==============================] - 1s 20ms/step - loss: 0.0056 - val_loss: 0.3857\n",
            "Epoch 107/200\n",
            "30/30 [==============================] - 0s 15ms/step - loss: 0.0045 - val_loss: 0.3880\n",
            "Epoch 108/200\n",
            "30/30 [==============================] - 0s 16ms/step - loss: 0.0206 - val_loss: 0.3939\n",
            "Epoch 109/200\n",
            "30/30 [==============================] - 0s 14ms/step - loss: 0.0123 - val_loss: 0.3864\n",
            "Epoch 110/200\n",
            "30/30 [==============================] - 0s 16ms/step - loss: 0.0063 - val_loss: 0.3914\n",
            "Epoch 111/200\n",
            "30/30 [==============================] - 0s 16ms/step - loss: 0.0195 - val_loss: 0.3915\n",
            "Epoch 112/200\n",
            "30/30 [==============================] - 0s 13ms/step - loss: 0.0278 - val_loss: 0.4372\n",
            "Epoch 113/200\n",
            "30/30 [==============================] - 0s 8ms/step - loss: 0.0593 - val_loss: 0.4508\n",
            "Epoch 114/200\n",
            "30/30 [==============================] - 0s 8ms/step - loss: 0.1123 - val_loss: 0.4304\n",
            "Epoch 115/200\n",
            "30/30 [==============================] - 0s 8ms/step - loss: 0.0580 - val_loss: 0.4141\n",
            "Epoch 116/200\n",
            "30/30 [==============================] - 0s 8ms/step - loss: 0.1096 - val_loss: 0.4799\n",
            "Epoch 117/200\n",
            "30/30 [==============================] - 0s 8ms/step - loss: 0.3438 - val_loss: 0.5723\n",
            "Epoch 118/200\n",
            "30/30 [==============================] - 0s 8ms/step - loss: 0.1557 - val_loss: 0.4983\n",
            "Epoch 119/200\n",
            "30/30 [==============================] - 0s 8ms/step - loss: 0.0540 - val_loss: 0.3959\n",
            "Epoch 120/200\n",
            "30/30 [==============================] - 0s 9ms/step - loss: 0.0482 - val_loss: 0.4439\n",
            "Epoch 121/200\n",
            "30/30 [==============================] - 0s 9ms/step - loss: 0.1613 - val_loss: 0.4458\n",
            "Epoch 122/200\n",
            "30/30 [==============================] - 0s 8ms/step - loss: 0.1348 - val_loss: 0.6291\n",
            "Epoch 123/200\n",
            "30/30 [==============================] - 0s 8ms/step - loss: 0.7205 - val_loss: 0.9982\n",
            "Epoch 124/200\n",
            "30/30 [==============================] - 0s 9ms/step - loss: 0.4093 - val_loss: 0.5637\n",
            "Epoch 125/200\n",
            "30/30 [==============================] - 0s 8ms/step - loss: 0.1320 - val_loss: 0.3996\n",
            "Epoch 126/200\n",
            "30/30 [==============================] - 0s 8ms/step - loss: 0.0318 - val_loss: 0.4107\n",
            "Epoch 127/200\n",
            "30/30 [==============================] - 0s 8ms/step - loss: 0.0610 - val_loss: 0.4852\n",
            "Epoch 128/200\n",
            "30/30 [==============================] - 0s 9ms/step - loss: 0.0601 - val_loss: 0.4115\n",
            "Epoch 129/200\n",
            "30/30 [==============================] - 0s 8ms/step - loss: 0.1258 - val_loss: 0.4062\n",
            "Epoch 130/200\n",
            "30/30 [==============================] - 0s 8ms/step - loss: 0.0792 - val_loss: 0.3940\n",
            "Epoch 131/200\n",
            "30/30 [==============================] - 0s 8ms/step - loss: 0.0362 - val_loss: 0.4501\n",
            "Epoch 132/200\n",
            "30/30 [==============================] - 0s 8ms/step - loss: 0.0380 - val_loss: 0.3848\n",
            "Epoch 133/200\n",
            "30/30 [==============================] - 0s 8ms/step - loss: 0.0238 - val_loss: 0.4759\n",
            "Epoch 134/200\n",
            "30/30 [==============================] - 0s 8ms/step - loss: 0.0637 - val_loss: 0.4038\n",
            "Epoch 135/200\n",
            "30/30 [==============================] - 0s 8ms/step - loss: 0.0455 - val_loss: 0.6533\n",
            "Epoch 136/200\n",
            "30/30 [==============================] - 0s 8ms/step - loss: 0.3911 - val_loss: 0.4520\n",
            "Epoch 137/200\n",
            "30/30 [==============================] - 0s 8ms/step - loss: 0.3197 - val_loss: 0.8412\n",
            "Epoch 138/200\n",
            "30/30 [==============================] - 0s 8ms/step - loss: 0.8108 - val_loss: 0.6550\n",
            "Epoch 139/200\n",
            "30/30 [==============================] - 0s 8ms/step - loss: 0.1140 - val_loss: 0.4679\n",
            "Epoch 140/200\n",
            "30/30 [==============================] - 0s 8ms/step - loss: 0.1091 - val_loss: 0.4232\n",
            "Epoch 141/200\n",
            "30/30 [==============================] - 0s 8ms/step - loss: 0.0301 - val_loss: 0.3887\n",
            "Epoch 142/200\n",
            "30/30 [==============================] - 0s 8ms/step - loss: 0.0556 - val_loss: 0.3887\n",
            "Epoch 143/200\n",
            "30/30 [==============================] - 0s 8ms/step - loss: 0.0459 - val_loss: 0.4104\n",
            "Epoch 144/200\n",
            "30/30 [==============================] - 0s 8ms/step - loss: 0.0198 - val_loss: 0.3782\n",
            "Epoch 145/200\n",
            "30/30 [==============================] - 0s 9ms/step - loss: 0.0092 - val_loss: 0.3781\n",
            "Epoch 146/200\n",
            "30/30 [==============================] - 0s 8ms/step - loss: 0.0102 - val_loss: 0.3782\n",
            "Epoch 147/200\n",
            "30/30 [==============================] - 0s 8ms/step - loss: 0.0079 - val_loss: 0.3729\n",
            "Epoch 148/200\n",
            "30/30 [==============================] - 0s 8ms/step - loss: 0.0065 - val_loss: 0.3708\n",
            "Epoch 149/200\n",
            "30/30 [==============================] - 0s 9ms/step - loss: 0.0029 - val_loss: 0.3716\n",
            "Epoch 150/200\n",
            "30/30 [==============================] - 0s 8ms/step - loss: 0.0035 - val_loss: 0.3710\n",
            "Epoch 151/200\n",
            "30/30 [==============================] - 0s 8ms/step - loss: 0.0047 - val_loss: 0.3717\n",
            "Epoch 152/200\n",
            "30/30 [==============================] - 0s 10ms/step - loss: 0.0034 - val_loss: 0.3698\n",
            "Epoch 153/200\n",
            "30/30 [==============================] - 0s 14ms/step - loss: 0.0035 - val_loss: 0.3697\n",
            "Epoch 154/200\n",
            "30/30 [==============================] - 0s 14ms/step - loss: 0.0042 - val_loss: 0.3714\n",
            "Epoch 155/200\n",
            "30/30 [==============================] - 0s 15ms/step - loss: 0.0030 - val_loss: 0.3688\n",
            "Epoch 156/200\n",
            "30/30 [==============================] - 0s 15ms/step - loss: 0.0042 - val_loss: 0.3697\n",
            "Epoch 157/200\n",
            "30/30 [==============================] - 0s 14ms/step - loss: 0.0035 - val_loss: 0.3783\n",
            "Epoch 158/200\n",
            "30/30 [==============================] - 0s 15ms/step - loss: 0.0443 - val_loss: 0.3715\n",
            "Epoch 159/200\n",
            "30/30 [==============================] - 0s 16ms/step - loss: 0.1262 - val_loss: 0.4097\n",
            "Epoch 160/200\n",
            "30/30 [==============================] - 0s 15ms/step - loss: 0.1211 - val_loss: 0.3958\n",
            "Epoch 161/200\n",
            "30/30 [==============================] - 0s 8ms/step - loss: 0.1239 - val_loss: 0.4277\n",
            "Epoch 162/200\n",
            "30/30 [==============================] - 0s 8ms/step - loss: 0.3030 - val_loss: 0.7151\n",
            "Epoch 163/200\n",
            "30/30 [==============================] - 0s 8ms/step - loss: 0.3096 - val_loss: 0.6590\n",
            "Epoch 164/200\n",
            "30/30 [==============================] - 0s 8ms/step - loss: 0.2163 - val_loss: 0.6279\n",
            "Epoch 165/200\n",
            "30/30 [==============================] - 0s 8ms/step - loss: 0.1449 - val_loss: 0.4572\n",
            "Epoch 166/200\n",
            "30/30 [==============================] - 0s 8ms/step - loss: 0.1643 - val_loss: 0.5384\n",
            "Epoch 167/200\n",
            "30/30 [==============================] - 0s 8ms/step - loss: 0.1101 - val_loss: 0.3861\n",
            "Epoch 168/200\n",
            "30/30 [==============================] - 0s 8ms/step - loss: 0.0401 - val_loss: 0.3795\n",
            "Epoch 169/200\n",
            "30/30 [==============================] - 0s 8ms/step - loss: 0.0341 - val_loss: 0.3702\n",
            "Epoch 170/200\n",
            "30/30 [==============================] - 0s 8ms/step - loss: 0.0431 - val_loss: 0.3708\n",
            "Epoch 171/200\n",
            "30/30 [==============================] - 0s 8ms/step - loss: 0.0426 - val_loss: 0.3718\n",
            "Epoch 172/200\n",
            "30/30 [==============================] - 0s 9ms/step - loss: 0.0167 - val_loss: 0.4052\n",
            "Epoch 173/200\n",
            "30/30 [==============================] - 0s 8ms/step - loss: 0.0223 - val_loss: 0.3748\n",
            "Epoch 174/200\n",
            "30/30 [==============================] - 0s 8ms/step - loss: 0.0055 - val_loss: 0.3671\n",
            "Epoch 175/200\n",
            "30/30 [==============================] - 0s 8ms/step - loss: 0.0153 - val_loss: 0.3823\n",
            "Epoch 176/200\n",
            "30/30 [==============================] - 0s 8ms/step - loss: 0.0102 - val_loss: 0.3653\n",
            "Epoch 177/200\n",
            "30/30 [==============================] - 0s 9ms/step - loss: 0.0038 - val_loss: 0.3804\n",
            "Epoch 178/200\n",
            "30/30 [==============================] - 0s 8ms/step - loss: 0.0158 - val_loss: 0.3718\n",
            "Epoch 179/200\n",
            "30/30 [==============================] - 0s 8ms/step - loss: 0.0235 - val_loss: 0.3666\n",
            "Epoch 180/200\n",
            "30/30 [==============================] - 0s 8ms/step - loss: 0.0724 - val_loss: 0.4004\n",
            "Epoch 181/200\n",
            "30/30 [==============================] - 0s 8ms/step - loss: 0.0373 - val_loss: 0.3825\n",
            "Epoch 182/200\n",
            "30/30 [==============================] - 0s 8ms/step - loss: 0.0259 - val_loss: 0.3983\n",
            "Epoch 183/200\n",
            "30/30 [==============================] - 0s 8ms/step - loss: 0.1294 - val_loss: 0.6466\n",
            "Epoch 184/200\n",
            "30/30 [==============================] - 0s 8ms/step - loss: 0.2995 - val_loss: 0.4652\n",
            "Epoch 185/200\n",
            "30/30 [==============================] - 0s 8ms/step - loss: 0.1458 - val_loss: 0.5535\n",
            "Epoch 186/200\n",
            "30/30 [==============================] - 0s 9ms/step - loss: 0.0952 - val_loss: 0.5126\n",
            "Epoch 187/200\n",
            "30/30 [==============================] - 0s 8ms/step - loss: 0.2335 - val_loss: 0.4852\n",
            "Epoch 188/200\n",
            "30/30 [==============================] - 0s 8ms/step - loss: 0.0989 - val_loss: 0.5601\n",
            "Epoch 189/200\n",
            "30/30 [==============================] - 0s 8ms/step - loss: 0.4661 - val_loss: 0.5201\n",
            "Epoch 190/200\n",
            "30/30 [==============================] - 0s 8ms/step - loss: 0.2389 - val_loss: 1.2360\n",
            "Epoch 191/200\n",
            "30/30 [==============================] - 0s 8ms/step - loss: 0.6347 - val_loss: 0.8355\n",
            "Epoch 192/200\n",
            "30/30 [==============================] - 0s 9ms/step - loss: 0.4506 - val_loss: 0.4461\n",
            "Epoch 193/200\n",
            "30/30 [==============================] - 0s 8ms/step - loss: 0.0992 - val_loss: 0.4034\n",
            "Epoch 194/200\n",
            "30/30 [==============================] - 0s 8ms/step - loss: 0.0262 - val_loss: 0.3690\n",
            "Epoch 195/200\n",
            "30/30 [==============================] - 0s 8ms/step - loss: 0.0364 - val_loss: 0.3522\n",
            "Epoch 196/200\n",
            "30/30 [==============================] - 0s 9ms/step - loss: 0.0079 - val_loss: 0.3565\n",
            "Epoch 197/200\n",
            "30/30 [==============================] - 0s 8ms/step - loss: 0.0062 - val_loss: 0.3551\n",
            "Epoch 198/200\n",
            "30/30 [==============================] - 0s 8ms/step - loss: 0.0109 - val_loss: 0.3577\n",
            "Epoch 199/200\n",
            "30/30 [==============================] - 0s 8ms/step - loss: 0.0190 - val_loss: 0.3727\n",
            "Epoch 200/200\n",
            "30/30 [==============================] - 0s 13ms/step - loss: 0.0156 - val_loss: 0.3564\n"
          ]
        },
        {
          "output_type": "execute_result",
          "data": {
            "text/plain": [
              "<keras.src.callbacks.History at 0x7d083068a440>"
            ]
          },
          "metadata": {},
          "execution_count": 10
        }
      ]
    },
    {
      "cell_type": "markdown",
      "source": [
        "11. Evaluasi Model AI yang ada\n",
        "\n"
      ],
      "metadata": {
        "id": "Fg5dgAMDCjLg"
      }
    },
    {
      "cell_type": "code",
      "source": [
        "# 5. Evaluasi Model\n",
        "# Evaluasi model\n",
        "loss = model.evaluate(X_test.values.reshape(-1, n_timesteps, n_features), y_test)"
      ],
      "metadata": {
        "id": "YdV9hKTJ0YaB",
        "colab": {
          "base_uri": "https://localhost:8080/"
        },
        "outputId": "f2afaac9-4db7-487b-eaad-a924c9b93730"
      },
      "execution_count": 11,
      "outputs": [
        {
          "output_type": "stream",
          "name": "stdout",
          "text": [
            "8/8 [==============================] - 0s 3ms/step - loss: 0.3564\n"
          ]
        }
      ]
    },
    {
      "cell_type": "markdown",
      "source": [
        "12. Prediksi Kondisi Cuaca"
      ],
      "metadata": {
        "id": "GtsTKn6zBm1v"
      }
    },
    {
      "cell_type": "code",
      "source": [
        "# 6. Prediksi Kondisi Cuaca\n",
        "# Gunakan model LSTM untuk memprediksi kondisi cuaca\n",
        "input_data = np.array([[20, 30, 5]])  # Contoh data input: temperatur minimum = 20, temperatur maksimum = 30, curah hujan = 5\n",
        "prediksi_cuaca = model.predict(input_data.reshape(-1, n_timesteps, n_features))\n",
        "print(\"Prediksi kondisi cuaca (Minimum Temperature, Maximum Temperature, Rainfall):\", prediksi_cuaca)"
      ],
      "metadata": {
        "id": "6KD6SmJM0cyQ",
        "colab": {
          "base_uri": "https://localhost:8080/"
        },
        "outputId": "3fa12f0a-46d6-46d5-b12e-f58514d75d92"
      },
      "execution_count": 12,
      "outputs": [
        {
          "output_type": "stream",
          "name": "stdout",
          "text": [
            "1/1 [==============================] - 0s 298ms/step\n",
            "Prediksi kondisi cuaca (Minimum Temperature, Maximum Temperature, Rainfall): [[19.822304  29.912144   5.0723925]]\n"
          ]
        }
      ]
    }
  ]
}