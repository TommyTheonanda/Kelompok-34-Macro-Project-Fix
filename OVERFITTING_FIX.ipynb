{
  "nbformat": 4,
  "nbformat_minor": 0,
  "metadata": {
    "colab": {
      "provenance": [],
      "gpuType": "T4"
    },
    "kernelspec": {
      "name": "python3",
      "display_name": "Python 3"
    },
    "language_info": {
      "name": "python"
    },
    "accelerator": "GPU"
  },
  "cells": [
    {
      "cell_type": "markdown",
      "source": [
        "1. Import Library"
      ],
      "metadata": {
        "id": "Wp6BwCZ91QQp"
      }
    },
    {
      "cell_type": "code",
      "execution_count": 1,
      "metadata": {
        "id": "619eCybxUk8I"
      },
      "outputs": [],
      "source": [
        "import pandas as pd\n",
        "import numpy as np\n",
        "import tensorflow as tf\n",
        "from sklearn.model_selection import train_test_split"
      ]
    },
    {
      "cell_type": "markdown",
      "source": [
        "2. Load Dataset"
      ],
      "metadata": {
        "id": "ioK383if1Lv4"
      }
    },
    {
      "cell_type": "code",
      "source": [
        "from google.colab import drive\n",
        "drive.mount('/content/drive')"
      ],
      "metadata": {
        "colab": {
          "base_uri": "https://localhost:8080/"
        },
        "id": "_bVsxhv619Bq",
        "outputId": "622234b4-80ff-4b50-c9c5-2b06a654a4bd"
      },
      "execution_count": 2,
      "outputs": [
        {
          "output_type": "stream",
          "name": "stdout",
          "text": [
            "Mounted at /content/drive\n"
          ]
        }
      ]
    },
    {
      "cell_type": "markdown",
      "source": [
        "3. Membaca Dataset"
      ],
      "metadata": {
        "id": "IUTPDumX56UO"
      }
    },
    {
      "cell_type": "code",
      "source": [
        "data = pd.read_csv('/content/drive/MyDrive/Colab Notebooks/dataset/dataset.csv')  # Ubah 'nama_dataset.csv' sesuai dengan nama file dataset Anda"
      ],
      "metadata": {
        "id": "EXr9ZSFAzwzY"
      },
      "execution_count": 3,
      "outputs": []
    },
    {
      "cell_type": "markdown",
      "source": [
        "4. Menampilkan data dari Dataset"
      ],
      "metadata": {
        "id": "CA4Aroi9CjEd"
      }
    },
    {
      "cell_type": "code",
      "source": [
        "print(data)\n",
        "data.info()"
      ],
      "metadata": {
        "id": "0CpJYWBu1DpQ",
        "colab": {
          "base_uri": "https://localhost:8080/"
        },
        "outputId": "9313ac35-f98e-4136-fe04-5976799d3c77"
      },
      "execution_count": 4,
      "outputs": [
        {
          "output_type": "stream",
          "name": "stdout",
          "text": [
            "     Label_Cuaca  Minimum Temperature  Maximum Temperature  Rainfall\n",
            "0     2021-01-01                 24.3                 32.1       1.5\n",
            "1     2021-01-02                 25.1                 33.3       0.0\n",
            "2     2021-01-03                 24.2                 31.3      23.4\n",
            "3     2021-01-04                 23.1                 31.7       9.7\n",
            "4     2021-01-05                 23.4                 33.8       0.0\n",
            "...          ...                  ...                  ...       ...\n",
            "1186  2024-04-01                 25.5                 31.3      15.3\n",
            "1187  2024-04-02                 25.7                 32.5      19.4\n",
            "1188  2024-04-03                 25.2                 33.9       1.6\n",
            "1189  2024-04-04                 25.3                 33.0       3.6\n",
            "1190  2024-04-05                 25.8                 33.8       1.0\n",
            "\n",
            "[1191 rows x 4 columns]\n",
            "<class 'pandas.core.frame.DataFrame'>\n",
            "RangeIndex: 1191 entries, 0 to 1190\n",
            "Data columns (total 4 columns):\n",
            " #   Column               Non-Null Count  Dtype  \n",
            "---  ------               --------------  -----  \n",
            " 0   Label_Cuaca          1191 non-null   object \n",
            " 1   Minimum Temperature  1191 non-null   float64\n",
            " 2   Maximum Temperature  1191 non-null   float64\n",
            " 3   Rainfall             1191 non-null   float64\n",
            "dtypes: float64(3), object(1)\n",
            "memory usage: 37.3+ KB\n"
          ]
        }
      ]
    },
    {
      "cell_type": "markdown",
      "source": [
        "5. Persiapan Data untuk Model LSTM"
      ],
      "metadata": {
        "id": "mlCuL--QCi-k"
      }
    },
    {
      "cell_type": "code",
      "source": [
        "# 2. Persiapan Data untuk Model LSTM\n",
        "# Pisahkan fitur (features) dan label (labels)\n",
        "features = data[['Minimum Temperature', 'Maximum Temperature', 'Rainfall']]\n",
        "labels = data[['Minimum Temperature', 'Maximum Temperature', 'Rainfall']]"
      ],
      "metadata": {
        "id": "Up0eiFf4z3BZ"
      },
      "execution_count": 5,
      "outputs": []
    },
    {
      "cell_type": "markdown",
      "source": [
        "6. Pisahkan data menjadi data latih dan data uji\n",
        "\n",
        "\n"
      ],
      "metadata": {
        "id": "YEQdliuDC1nA"
      }
    },
    {
      "cell_type": "code",
      "source": [
        "# Pisahkan data menjadi data latih dan data uji\n",
        "X_train, X_test, y_train, y_test = train_test_split(features, labels, test_size=0.2, random_state=42)"
      ],
      "metadata": {
        "id": "bi3Rq7gEz9a4"
      },
      "execution_count": 6,
      "outputs": []
    },
    {
      "cell_type": "markdown",
      "source": [
        "7. Pemodelan dengan LSTM menggunakan TensorFlow\n",
        "\n",
        "\n",
        "\n"
      ],
      "metadata": {
        "id": "nOuWBcEZC1u2"
      }
    },
    {
      "cell_type": "code",
      "source": [
        "# 3. Pemodelan dengan LSTM menggunakan TensorFlow\n",
        "# Tentukan jumlah time steps (jumlah langkah waktu) dan jumlah fitur\n",
        "n_timesteps = 1  # Untuk keperluan contoh sederhana, kita akan menggunakan 1 time step\n",
        "n_features = 3    # Jumlah fitur: temperatur minimum, temperatur maksimum, dan curah hujan"
      ],
      "metadata": {
        "id": "JpOxiIfF0CTg"
      },
      "execution_count": 7,
      "outputs": []
    },
    {
      "cell_type": "markdown",
      "source": [
        "8. Menambahkan DropOut"
      ],
      "metadata": {
        "id": "BoPLL-ciC14D"
      }
    },
    {
      "cell_type": "code",
      "source": [
        "\n",
        "# Menambahkan DropOut\n",
        "model = tf.keras.Sequential([\n",
        "    tf.keras.layers.LSTM(units=50, activation='relu', return_sequences=True, input_shape=(n_timesteps, n_features)),\n",
        "    tf.keras.layers.Dropout(0.2),  # Add dropout layer\n",
        "    tf.keras.layers.LSTM(units=50, activation='relu'),\n",
        "    tf.keras.layers.Dense(units=3)\n",
        "])\n"
      ],
      "metadata": {
        "id": "MLx3AYqO0Jho",
        "colab": {
          "base_uri": "https://localhost:8080/"
        },
        "outputId": "f378aeda-9a7f-4d3f-c088-134603f0a71d"
      },
      "execution_count": 8,
      "outputs": [
        {
          "output_type": "stream",
          "name": "stderr",
          "text": [
            "WARNING:tensorflow:Layer lstm will not use cuDNN kernels since it doesn't meet the criteria. It will use a generic GPU kernel as fallback when running on GPU.\n",
            "WARNING:tensorflow:Layer lstm_1 will not use cuDNN kernels since it doesn't meet the criteria. It will use a generic GPU kernel as fallback when running on GPU.\n"
          ]
        }
      ]
    },
    {
      "cell_type": "markdown",
      "source": [
        "9. Menggunakan Stopping Awal dan Kompilasi Model"
      ],
      "metadata": {
        "id": "c0WmzxhpC173"
      }
    },
    {
      "cell_type": "code",
      "source": [
        "# Kompilasi model\n",
        "model.compile(optimizer='adam', loss='mse')\n",
        "\n",
        "# Menggunakan Stopping Awal\n",
        "early_stopping = tf.keras.callbacks.EarlyStopping(monitor='val_loss', patience=5)\n",
        "model.fit(X_train.values.reshape(-1, n_timesteps, n_features), y_train, epochs=100, batch_size=32, validation_data=(X_test.values.reshape(-1, n_timesteps, n_features), y_test), callbacks=[early_stopping])"
      ],
      "metadata": {
        "id": "4E9AYop_0NQY",
        "colab": {
          "base_uri": "https://localhost:8080/"
        },
        "outputId": "22e77664-44ce-4107-f31b-b14e90d90c87"
      },
      "execution_count": 9,
      "outputs": [
        {
          "output_type": "stream",
          "name": "stdout",
          "text": [
            "Epoch 1/100\n",
            "30/30 [==============================] - 6s 24ms/step - loss: 825.3878 - val_loss: 667.4978\n",
            "Epoch 2/100\n",
            "30/30 [==============================] - 0s 8ms/step - loss: 502.7183 - val_loss: 117.2967\n",
            "Epoch 3/100\n",
            "30/30 [==============================] - 0s 9ms/step - loss: 63.6505 - val_loss: 11.1382\n",
            "Epoch 4/100\n",
            "30/30 [==============================] - 0s 8ms/step - loss: 28.5548 - val_loss: 6.9480\n",
            "Epoch 5/100\n",
            "30/30 [==============================] - 0s 8ms/step - loss: 19.8816 - val_loss: 4.9004\n",
            "Epoch 6/100\n",
            "30/30 [==============================] - 0s 8ms/step - loss: 19.5441 - val_loss: 3.8189\n",
            "Epoch 7/100\n",
            "30/30 [==============================] - 0s 9ms/step - loss: 16.6658 - val_loss: 3.4767\n",
            "Epoch 8/100\n",
            "30/30 [==============================] - 0s 8ms/step - loss: 17.7541 - val_loss: 2.5331\n",
            "Epoch 9/100\n",
            "30/30 [==============================] - 0s 8ms/step - loss: 17.3716 - val_loss: 2.0462\n",
            "Epoch 10/100\n",
            "30/30 [==============================] - 0s 8ms/step - loss: 12.5207 - val_loss: 2.3581\n",
            "Epoch 11/100\n",
            "30/30 [==============================] - 0s 8ms/step - loss: 13.7669 - val_loss: 1.9891\n",
            "Epoch 12/100\n",
            "30/30 [==============================] - 0s 8ms/step - loss: 11.4074 - val_loss: 2.5845\n",
            "Epoch 13/100\n",
            "30/30 [==============================] - 0s 8ms/step - loss: 11.5455 - val_loss: 2.8840\n",
            "Epoch 14/100\n",
            "30/30 [==============================] - 0s 8ms/step - loss: 13.4324 - val_loss: 3.1403\n",
            "Epoch 15/100\n",
            "30/30 [==============================] - 0s 8ms/step - loss: 13.5747 - val_loss: 2.4641\n",
            "Epoch 16/100\n",
            "30/30 [==============================] - 0s 8ms/step - loss: 11.6497 - val_loss: 3.1886\n"
          ]
        },
        {
          "output_type": "execute_result",
          "data": {
            "text/plain": [
              "<keras.src.callbacks.History at 0x7b9b6a233880>"
            ]
          },
          "metadata": {},
          "execution_count": 9
        }
      ]
    },
    {
      "cell_type": "markdown",
      "source": [
        "\n",
        "10. Melatih data"
      ],
      "metadata": {
        "id": "Hf1CGqZ0CjJD"
      }
    },
    {
      "cell_type": "code",
      "source": [
        "# Melatih data\n",
        "model.fit(X_train.values.reshape(-1, n_timesteps, n_features), y_train, epochs=100, batch_size=32, validation_data=(X_test.values.reshape(-1, n_timesteps, n_features), y_test))"
      ],
      "metadata": {
        "id": "Jczso08f0QSA",
        "colab": {
          "base_uri": "https://localhost:8080/"
        },
        "outputId": "d065afd9-af85-4dff-aa9d-76c48256aaad"
      },
      "execution_count": 10,
      "outputs": [
        {
          "output_type": "stream",
          "name": "stdout",
          "text": [
            "Epoch 1/100\n",
            "30/30 [==============================] - 0s 10ms/step - loss: 11.1655 - val_loss: 3.1089\n",
            "Epoch 2/100\n",
            "30/30 [==============================] - 0s 8ms/step - loss: 12.1290 - val_loss: 3.0266\n",
            "Epoch 3/100\n",
            "30/30 [==============================] - 0s 9ms/step - loss: 9.9574 - val_loss: 3.3609\n",
            "Epoch 4/100\n",
            "30/30 [==============================] - 0s 13ms/step - loss: 11.7205 - val_loss: 4.4389\n",
            "Epoch 5/100\n",
            "30/30 [==============================] - 0s 15ms/step - loss: 10.0156 - val_loss: 3.5065\n",
            "Epoch 6/100\n",
            "30/30 [==============================] - 0s 14ms/step - loss: 8.3951 - val_loss: 3.8633\n",
            "Epoch 7/100\n",
            "30/30 [==============================] - 0s 14ms/step - loss: 8.6424 - val_loss: 5.4798\n",
            "Epoch 8/100\n",
            "30/30 [==============================] - 0s 16ms/step - loss: 8.8036 - val_loss: 7.6338\n",
            "Epoch 9/100\n",
            "30/30 [==============================] - 0s 15ms/step - loss: 9.2024 - val_loss: 6.4416\n",
            "Epoch 10/100\n",
            "30/30 [==============================] - 0s 15ms/step - loss: 7.2943 - val_loss: 5.6379\n",
            "Epoch 11/100\n",
            "30/30 [==============================] - 0s 16ms/step - loss: 8.6581 - val_loss: 8.5570\n",
            "Epoch 12/100\n",
            "30/30 [==============================] - 0s 14ms/step - loss: 11.0373 - val_loss: 7.0132\n",
            "Epoch 13/100\n",
            "30/30 [==============================] - 0s 16ms/step - loss: 8.7017 - val_loss: 8.0218\n",
            "Epoch 14/100\n",
            "30/30 [==============================] - 0s 9ms/step - loss: 10.3859 - val_loss: 7.2064\n",
            "Epoch 15/100\n",
            "30/30 [==============================] - 0s 8ms/step - loss: 11.8498 - val_loss: 7.6101\n",
            "Epoch 16/100\n",
            "30/30 [==============================] - 0s 8ms/step - loss: 7.0339 - val_loss: 8.7301\n",
            "Epoch 17/100\n",
            "30/30 [==============================] - 0s 8ms/step - loss: 9.5776 - val_loss: 10.0312\n",
            "Epoch 18/100\n",
            "30/30 [==============================] - 0s 8ms/step - loss: 10.3075 - val_loss: 9.9011\n",
            "Epoch 19/100\n",
            "30/30 [==============================] - 0s 9ms/step - loss: 7.7353 - val_loss: 10.6617\n",
            "Epoch 20/100\n",
            "30/30 [==============================] - 0s 8ms/step - loss: 6.2390 - val_loss: 13.8232\n",
            "Epoch 21/100\n",
            "30/30 [==============================] - 0s 9ms/step - loss: 10.0861 - val_loss: 12.5235\n",
            "Epoch 22/100\n",
            "30/30 [==============================] - 0s 8ms/step - loss: 6.4762 - val_loss: 10.9253\n",
            "Epoch 23/100\n",
            "30/30 [==============================] - 0s 8ms/step - loss: 6.3809 - val_loss: 12.6469\n",
            "Epoch 24/100\n",
            "30/30 [==============================] - 0s 8ms/step - loss: 5.7434 - val_loss: 13.2784\n",
            "Epoch 25/100\n",
            "30/30 [==============================] - 0s 9ms/step - loss: 5.6357 - val_loss: 13.6413\n",
            "Epoch 26/100\n",
            "30/30 [==============================] - 0s 8ms/step - loss: 5.7123 - val_loss: 11.1401\n",
            "Epoch 27/100\n",
            "30/30 [==============================] - 0s 9ms/step - loss: 5.6523 - val_loss: 12.4725\n",
            "Epoch 28/100\n",
            "30/30 [==============================] - 0s 9ms/step - loss: 5.3417 - val_loss: 13.8197\n",
            "Epoch 29/100\n",
            "30/30 [==============================] - 0s 8ms/step - loss: 6.3349 - val_loss: 15.0208\n",
            "Epoch 30/100\n",
            "30/30 [==============================] - 0s 8ms/step - loss: 5.9766 - val_loss: 14.7912\n",
            "Epoch 31/100\n",
            "30/30 [==============================] - 0s 9ms/step - loss: 6.5127 - val_loss: 14.3861\n",
            "Epoch 32/100\n",
            "30/30 [==============================] - 0s 8ms/step - loss: 6.0323 - val_loss: 12.1675\n",
            "Epoch 33/100\n",
            "30/30 [==============================] - 0s 8ms/step - loss: 5.3521 - val_loss: 15.9534\n",
            "Epoch 34/100\n",
            "30/30 [==============================] - 0s 8ms/step - loss: 6.8416 - val_loss: 14.9488\n",
            "Epoch 35/100\n",
            "30/30 [==============================] - 0s 9ms/step - loss: 7.2485 - val_loss: 14.4672\n",
            "Epoch 36/100\n",
            "30/30 [==============================] - 0s 10ms/step - loss: 6.1664 - val_loss: 14.5835\n",
            "Epoch 37/100\n",
            "30/30 [==============================] - 0s 8ms/step - loss: 7.0669 - val_loss: 15.4662\n",
            "Epoch 38/100\n",
            "30/30 [==============================] - 0s 8ms/step - loss: 6.0589 - val_loss: 16.4103\n",
            "Epoch 39/100\n",
            "30/30 [==============================] - 0s 9ms/step - loss: 6.3975 - val_loss: 16.0889\n",
            "Epoch 40/100\n",
            "30/30 [==============================] - 0s 8ms/step - loss: 4.4967 - val_loss: 18.6102\n",
            "Epoch 41/100\n",
            "30/30 [==============================] - 0s 8ms/step - loss: 5.0126 - val_loss: 15.0718\n",
            "Epoch 42/100\n",
            "30/30 [==============================] - 0s 8ms/step - loss: 5.9172 - val_loss: 21.5160\n",
            "Epoch 43/100\n",
            "30/30 [==============================] - 0s 9ms/step - loss: 5.0704 - val_loss: 18.8564\n",
            "Epoch 44/100\n",
            "30/30 [==============================] - 0s 8ms/step - loss: 6.4580 - val_loss: 16.4885\n",
            "Epoch 45/100\n",
            "30/30 [==============================] - 0s 8ms/step - loss: 7.7212 - val_loss: 22.1831\n",
            "Epoch 46/100\n",
            "30/30 [==============================] - 0s 9ms/step - loss: 5.3129 - val_loss: 22.0008\n",
            "Epoch 47/100\n",
            "30/30 [==============================] - 0s 9ms/step - loss: 6.6121 - val_loss: 17.7759\n",
            "Epoch 48/100\n",
            "30/30 [==============================] - 0s 9ms/step - loss: 7.2431 - val_loss: 18.8328\n",
            "Epoch 49/100\n",
            "30/30 [==============================] - 0s 8ms/step - loss: 5.8887 - val_loss: 14.9992\n",
            "Epoch 50/100\n",
            "30/30 [==============================] - 0s 8ms/step - loss: 4.3599 - val_loss: 21.9049\n",
            "Epoch 51/100\n",
            "30/30 [==============================] - 0s 8ms/step - loss: 3.8206 - val_loss: 16.2854\n",
            "Epoch 52/100\n",
            "30/30 [==============================] - 0s 11ms/step - loss: 5.2632 - val_loss: 15.8234\n",
            "Epoch 53/100\n",
            "30/30 [==============================] - 0s 15ms/step - loss: 4.1452 - val_loss: 16.7559\n",
            "Epoch 54/100\n",
            "30/30 [==============================] - 0s 16ms/step - loss: 6.7900 - val_loss: 19.7370\n",
            "Epoch 55/100\n",
            "30/30 [==============================] - 0s 15ms/step - loss: 3.9608 - val_loss: 18.5962\n",
            "Epoch 56/100\n",
            "30/30 [==============================] - 0s 16ms/step - loss: 4.5588 - val_loss: 20.4902\n",
            "Epoch 57/100\n",
            "30/30 [==============================] - 0s 15ms/step - loss: 4.5131 - val_loss: 16.3629\n",
            "Epoch 58/100\n",
            "30/30 [==============================] - 0s 16ms/step - loss: 5.9960 - val_loss: 17.8751\n",
            "Epoch 59/100\n",
            "30/30 [==============================] - 0s 14ms/step - loss: 6.3318 - val_loss: 17.8957\n",
            "Epoch 60/100\n",
            "30/30 [==============================] - 0s 8ms/step - loss: 3.9942 - val_loss: 18.9073\n",
            "Epoch 61/100\n",
            "30/30 [==============================] - 0s 10ms/step - loss: 7.0773 - val_loss: 19.2701\n",
            "Epoch 62/100\n",
            "30/30 [==============================] - 0s 8ms/step - loss: 6.9444 - val_loss: 18.7529\n",
            "Epoch 63/100\n",
            "30/30 [==============================] - 0s 8ms/step - loss: 5.3476 - val_loss: 21.5764\n",
            "Epoch 64/100\n",
            "30/30 [==============================] - 0s 8ms/step - loss: 8.5296 - val_loss: 16.7101\n",
            "Epoch 65/100\n",
            "30/30 [==============================] - 0s 9ms/step - loss: 5.2569 - val_loss: 21.2139\n",
            "Epoch 66/100\n",
            "30/30 [==============================] - 0s 8ms/step - loss: 5.4556 - val_loss: 21.9030\n",
            "Epoch 67/100\n",
            "30/30 [==============================] - 0s 8ms/step - loss: 3.7017 - val_loss: 16.7326\n",
            "Epoch 68/100\n",
            "30/30 [==============================] - 0s 8ms/step - loss: 4.8607 - val_loss: 18.7456\n",
            "Epoch 69/100\n",
            "30/30 [==============================] - 0s 10ms/step - loss: 11.2770 - val_loss: 25.5444\n",
            "Epoch 70/100\n",
            "30/30 [==============================] - 0s 8ms/step - loss: 10.5848 - val_loss: 20.6309\n",
            "Epoch 71/100\n",
            "30/30 [==============================] - 0s 8ms/step - loss: 4.9001 - val_loss: 21.7294\n",
            "Epoch 72/100\n",
            "30/30 [==============================] - 0s 8ms/step - loss: 3.8491 - val_loss: 18.6158\n",
            "Epoch 73/100\n",
            "30/30 [==============================] - 0s 8ms/step - loss: 3.7612 - val_loss: 19.3334\n",
            "Epoch 74/100\n",
            "30/30 [==============================] - 0s 8ms/step - loss: 5.4487 - val_loss: 23.4928\n",
            "Epoch 75/100\n",
            "30/30 [==============================] - 0s 8ms/step - loss: 8.7073 - val_loss: 18.8066\n",
            "Epoch 76/100\n",
            "30/30 [==============================] - 0s 8ms/step - loss: 4.8296 - val_loss: 17.9116\n",
            "Epoch 77/100\n",
            "30/30 [==============================] - 0s 8ms/step - loss: 5.8037 - val_loss: 20.6688\n",
            "Epoch 78/100\n",
            "30/30 [==============================] - 0s 8ms/step - loss: 5.3872 - val_loss: 15.8717\n",
            "Epoch 79/100\n",
            "30/30 [==============================] - 0s 8ms/step - loss: 5.0033 - val_loss: 18.5777\n",
            "Epoch 80/100\n",
            "30/30 [==============================] - 0s 8ms/step - loss: 5.4923 - val_loss: 18.1071\n",
            "Epoch 81/100\n",
            "30/30 [==============================] - 0s 8ms/step - loss: 3.6674 - val_loss: 18.1343\n",
            "Epoch 82/100\n",
            "30/30 [==============================] - 0s 10ms/step - loss: 5.2230 - val_loss: 18.8187\n",
            "Epoch 83/100\n",
            "30/30 [==============================] - 0s 8ms/step - loss: 4.8940 - val_loss: 19.1033\n",
            "Epoch 84/100\n",
            "30/30 [==============================] - 0s 8ms/step - loss: 5.4764 - val_loss: 19.5836\n",
            "Epoch 85/100\n",
            "30/30 [==============================] - 0s 8ms/step - loss: 10.2273 - val_loss: 20.9502\n",
            "Epoch 86/100\n",
            "30/30 [==============================] - 0s 9ms/step - loss: 5.9765 - val_loss: 17.8331\n",
            "Epoch 87/100\n",
            "30/30 [==============================] - 0s 8ms/step - loss: 3.9336 - val_loss: 17.9209\n",
            "Epoch 88/100\n",
            "30/30 [==============================] - 0s 8ms/step - loss: 6.2469 - val_loss: 20.8774\n",
            "Epoch 89/100\n",
            "30/30 [==============================] - 0s 8ms/step - loss: 7.8251 - val_loss: 19.2396\n",
            "Epoch 90/100\n",
            "30/30 [==============================] - 0s 9ms/step - loss: 4.4257 - val_loss: 18.4568\n",
            "Epoch 91/100\n",
            "30/30 [==============================] - 0s 8ms/step - loss: 5.9256 - val_loss: 20.0313\n",
            "Epoch 92/100\n",
            "30/30 [==============================] - 0s 8ms/step - loss: 4.8903 - val_loss: 21.6268\n",
            "Epoch 93/100\n",
            "30/30 [==============================] - 0s 8ms/step - loss: 6.0607 - val_loss: 22.9378\n",
            "Epoch 94/100\n",
            "30/30 [==============================] - 0s 9ms/step - loss: 6.0649 - val_loss: 19.8355\n",
            "Epoch 95/100\n",
            "30/30 [==============================] - 0s 7ms/step - loss: 3.8790 - val_loss: 20.4815\n",
            "Epoch 96/100\n",
            "30/30 [==============================] - 0s 8ms/step - loss: 4.6472 - val_loss: 18.6447\n",
            "Epoch 97/100\n",
            "30/30 [==============================] - 0s 8ms/step - loss: 4.1679 - val_loss: 18.6007\n",
            "Epoch 98/100\n",
            "30/30 [==============================] - 0s 10ms/step - loss: 3.5663 - val_loss: 22.5316\n",
            "Epoch 99/100\n",
            "30/30 [==============================] - 0s 11ms/step - loss: 3.8054 - val_loss: 18.0940\n",
            "Epoch 100/100\n",
            "30/30 [==============================] - 0s 15ms/step - loss: 4.5170 - val_loss: 20.4120\n"
          ]
        },
        {
          "output_type": "execute_result",
          "data": {
            "text/plain": [
              "<keras.src.callbacks.History at 0x7b9b5024acb0>"
            ]
          },
          "metadata": {},
          "execution_count": 10
        }
      ]
    },
    {
      "cell_type": "markdown",
      "source": [
        "11. Evaluasi Model AI yang ada\n",
        "\n"
      ],
      "metadata": {
        "id": "Fg5dgAMDCjLg"
      }
    },
    {
      "cell_type": "code",
      "source": [
        "# 5. Evaluasi Model\n",
        "# Evaluasi model\n",
        "loss = model.evaluate(X_test.values.reshape(-1, n_timesteps, n_features), y_test)"
      ],
      "metadata": {
        "id": "YdV9hKTJ0YaB",
        "colab": {
          "base_uri": "https://localhost:8080/"
        },
        "outputId": "f164b7c6-5621-47c6-8ada-f00606d4a5d2"
      },
      "execution_count": 11,
      "outputs": [
        {
          "output_type": "stream",
          "name": "stdout",
          "text": [
            "8/8 [==============================] - 0s 13ms/step - loss: 20.4120\n"
          ]
        }
      ]
    },
    {
      "cell_type": "markdown",
      "source": [
        "12. Prediksi Kondisi Cuaca"
      ],
      "metadata": {
        "id": "GtsTKn6zBm1v"
      }
    },
    {
      "cell_type": "code",
      "source": [
        "# 6. Prediksi Kondisi Cuaca\n",
        "# Gunakan model LSTM untuk memprediksi kondisi cuaca\n",
        "input_data = np.array([[20, 30, 5]])  # Contoh data input: temperatur minimum = 20, temperatur maksimum = 30, curah hujan = 5\n",
        "prediksi_cuaca = model.predict(input_data.reshape(-1, n_timesteps, n_features))\n",
        "print(\"Prediksi kondisi cuaca (Minimum Temperature, Maximum Temperature, Rainfall):\", prediksi_cuaca)"
      ],
      "metadata": {
        "id": "6KD6SmJM0cyQ",
        "colab": {
          "base_uri": "https://localhost:8080/"
        },
        "outputId": "da360ed6-6911-4f03-b2ab-7f763b816395"
      },
      "execution_count": 12,
      "outputs": [
        {
          "output_type": "stream",
          "name": "stdout",
          "text": [
            "1/1 [==============================] - 1s 1s/step\n",
            "Prediksi kondisi cuaca (Minimum Temperature, Maximum Temperature, Rainfall): [[16.854923  24.230978   3.8849492]]\n"
          ]
        }
      ]
    }
  ]
}